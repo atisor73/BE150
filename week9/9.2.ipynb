{
 "cells": [
  {
   "cell_type": "code",
   "execution_count": null,
   "id": "fa5469e8-1e9a-4606-9d0b-662e626d1c51",
   "metadata": {},
   "outputs": [],
   "source": [
    "import numpy as np\n",
    "import pandas as pd\n",
    "import scipy.integrate\n",
    "import biocircuits\n",
    "import tqdm\n",
    "\n",
    "import iqplot\n",
    "import bokeh.io\n",
    "bokeh.io.output_notebook()\n",
    "import panel as pn\n",
    "pn.extension()\n",
    "\n",
    "def style(p, autohide=False):\n",
    "    p.title.text_font=\"Helvetica\"\n",
    "    p.title.text_font_size=\"16px\"\n",
    "    p.title.align=\"center\"\n",
    "    p.xaxis.axis_label_text_font=\"Helvetica\"\n",
    "    p.yaxis.axis_label_text_font=\"Helvetica\"\n",
    "    \n",
    "    p.xaxis.axis_label_text_font_size=\"13px\"\n",
    "    p.yaxis.axis_label_text_font_size=\"13px\"\n",
    "    p.background_fill_alpha = 0\n",
    "    if autohide: p.toolbar.autohide=True\n",
    "    return p"
   ]
  },
  {
   "cell_type": "markdown",
   "id": "9c16e176-9250-4633-b9ee-5af88db8f2b7",
   "metadata": {},
   "source": [
    "# <center> Homework 9.2: Turing patterns with expanders</center>"
   ]
  },
  {
   "cell_type": "markdown",
   "id": "3c61b182-7455-441d-9a81-1d2b3d65dccf",
   "metadata": {},
   "source": [
    "\\begin{align}\n",
    "\\frac{\\partial a}{\\partial t} &= D_A\\,\\frac{\\partial^2 a}{\\partial x^2}\n",
    "+ \\beta_A\\,\\frac{(a/k_a)^n}{(a/k_a)^n + (b/k_b)^n} - \\gamma_A a \\\\[1em]\n",
    "\\frac{\\partial b}{\\partial t} &= D_B\\,\\frac{\\partial^2 b}{\\partial x^2}\n",
    "+ \\beta_B\\,\\frac{(a/k_a)^n}{(a/k_a)^n + (b/k_b)^n} - \\gamma_B b.\n",
    "\\end{align}"
   ]
  },
  {
   "cell_type": "code",
   "execution_count": null,
   "id": "629d19b8-46f2-4fb7-b5f3-d94345bc933b",
   "metadata": {},
   "outputs": [],
   "source": [
    "color_A, color_B, color_E = '#1b9e77', '#d95f02', '#7570b3'"
   ]
  },
  {
   "cell_type": "code",
   "execution_count": null,
   "id": "58a8743f-e8c0-4549-b8db-c0c97c12f758",
   "metadata": {},
   "outputs": [],
   "source": []
  },
  {
   "cell_type": "code",
   "execution_count": null,
   "id": "ac0d0087-095a-4a71-8759-4b620296d027",
   "metadata": {},
   "outputs": [],
   "source": []
  },
  {
   "cell_type": "code",
   "execution_count": null,
   "id": "68d1fab1-0d59-46fe-823b-4e8618630e20",
   "metadata": {},
   "outputs": [],
   "source": []
  },
  {
   "cell_type": "code",
   "execution_count": null,
   "id": "a9e298ae-3d5d-4f65-9e7c-310a2bdf07ff",
   "metadata": {},
   "outputs": [],
   "source": []
  },
  {
   "cell_type": "code",
   "execution_count": null,
   "id": "67b45c8a-fee7-455c-8f45-79389112bc54",
   "metadata": {},
   "outputs": [],
   "source": []
  },
  {
   "cell_type": "code",
   "execution_count": null,
   "id": "889b4990-ce83-4a49-910a-635ccca17b24",
   "metadata": {},
   "outputs": [],
   "source": []
  },
  {
   "cell_type": "code",
   "execution_count": null,
   "id": "65f61190-b487-42ac-a97b-ecf755c18eed",
   "metadata": {},
   "outputs": [],
   "source": []
  },
  {
   "cell_type": "code",
   "execution_count": null,
   "id": "a30bf251-0ebd-4914-8c5e-57ce33d31718",
   "metadata": {},
   "outputs": [],
   "source": []
  },
  {
   "cell_type": "code",
   "execution_count": null,
   "id": "472fbab9-a0d2-48eb-94a0-4207e2eb77a6",
   "metadata": {},
   "outputs": [],
   "source": []
  },
  {
   "cell_type": "code",
   "execution_count": null,
   "id": "0804949a-350d-4ed7-9771-4dd1acbdaf10",
   "metadata": {},
   "outputs": [],
   "source": []
  },
  {
   "cell_type": "code",
   "execution_count": null,
   "id": "a44ee57c-24f8-461e-8887-a5d7b4b13658",
   "metadata": {},
   "outputs": [],
   "source": []
  },
  {
   "cell_type": "code",
   "execution_count": null,
   "id": "db85540b-314c-46cf-ad69-2ac563dc2526",
   "metadata": {},
   "outputs": [],
   "source": [
    "pattern\n",
    "turn\n",
    "saturn\n",
    "\n",
    "morphogenesis \n",
    "bliss\n",
    "amiss\n",
    "abyss\n",
    "resists\n",
    "\n",
    "expander\n",
    "candor\n",
    "meander\n",
    "salamander\n",
    "commander\n",
    "\n",
    "Meet the salamander commander: Mr. Expander"
   ]
  }
 ],
 "metadata": {
  "kernelspec": {
   "display_name": "Python 3",
   "language": "python",
   "name": "python3"
  },
  "language_info": {
   "codemirror_mode": {
    "name": "ipython",
    "version": 3
   },
   "file_extension": ".py",
   "mimetype": "text/x-python",
   "name": "python",
   "nbconvert_exporter": "python",
   "pygments_lexer": "ipython3",
   "version": "3.8.8"
  }
 },
 "nbformat": 4,
 "nbformat_minor": 5
}
