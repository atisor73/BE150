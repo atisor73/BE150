{
 "cells": [
  {
   "cell_type": "code",
   "execution_count": 1,
   "metadata": {},
   "outputs": [
    {
     "ename": "ModuleNotFoundError",
     "evalue": "No module named 'biocircuits'",
     "output_type": "error",
     "traceback": [
      "\u001b[0;31m---------------------------------------------------------------------------\u001b[0m",
      "\u001b[0;31mModuleNotFoundError\u001b[0m                       Traceback (most recent call last)",
      "\u001b[0;32m<ipython-input-1-a4b87333a4bc>\u001b[0m in \u001b[0;36m<module>\u001b[0;34m\u001b[0m\n\u001b[1;32m      1\u001b[0m \u001b[0;32mimport\u001b[0m \u001b[0mnumpy\u001b[0m \u001b[0;32mas\u001b[0m \u001b[0mnp\u001b[0m\u001b[0;34m\u001b[0m\u001b[0;34m\u001b[0m\u001b[0m\n\u001b[1;32m      2\u001b[0m \u001b[0;32mimport\u001b[0m \u001b[0mpandas\u001b[0m \u001b[0;32mas\u001b[0m \u001b[0mpd\u001b[0m\u001b[0;34m\u001b[0m\u001b[0;34m\u001b[0m\u001b[0m\n\u001b[0;32m----> 3\u001b[0;31m \u001b[0;32mimport\u001b[0m \u001b[0mbiocircuits\u001b[0m\u001b[0;34m\u001b[0m\u001b[0;34m\u001b[0m\u001b[0m\n\u001b[0m\u001b[1;32m      4\u001b[0m \u001b[0;32mimport\u001b[0m \u001b[0mscipy\u001b[0m\u001b[0;34m.\u001b[0m\u001b[0mintegrate\u001b[0m\u001b[0;34m\u001b[0m\u001b[0;34m\u001b[0m\u001b[0m\n\u001b[1;32m      5\u001b[0m \u001b[0;34m\u001b[0m\u001b[0m\n",
      "\u001b[0;31mModuleNotFoundError\u001b[0m: No module named 'biocircuits'"
     ]
    }
   ],
   "source": [
    "import numpy as np\n",
    "import pandas as pd\n",
    "import biocircuits \n",
    "import scipy.integrate\n",
    "\n",
    "import bokeh.io\n",
    "bokeh.io.output_notebook()\n",
    "import panel as pn\n",
    "pn.extension()\n",
    "\n",
    "def style(p, autohide=False):\n",
    "    p.title.text_font=\"Helvetica\"\n",
    "    p.title.text_font_size=\"16px\"\n",
    "    p.title.align=\"center\"\n",
    "    p.xaxis.axis_label_text_font=\"Helvetica\"\n",
    "    p.yaxis.axis_label_text_font=\"Helvetica\"\n",
    "    \n",
    "    p.xaxis.axis_label_text_font_size=\"13px\"\n",
    "    p.yaxis.axis_label_text_font_size=\"13px\"\n",
    "#     p.xaxis.axis_label_text_font_style = \"normal\"\n",
    "#     p.yaxis.axis_label_text_font_style = \"normal\"\n",
    "    p.background_fill_alpha = 0\n",
    "    if autohide: p.toolbar.autohide=True\n",
    "    return p"
   ]
  },
  {
   "cell_type": "code",
   "execution_count": 12,
   "metadata": {},
   "outputs": [],
   "source": [
    "fz = lambda x, y: biocircuits.aa_and(x, y, n_xz, n_yz)"
   ]
  },
  {
   "cell_type": "code",
   "execution_count": 14,
   "metadata": {},
   "outputs": [
    {
     "data": {
      "application/vnd.bokehjs_exec.v0+json": "",
      "text/html": [
       "\n",
       "<script id=\"1840\">\n",
       "  var xhr = new XMLHttpRequest()\n",
       "  xhr.responseType = 'blob';\n",
       "  xhr.open('GET', \"http://localhost:64033/autoload.js?bokeh-autoload-element=1840&bokeh-absolute-url=http://localhost:64033&resources=none\", true);\n",
       "  \n",
       "  xhr.onload = function (event) {\n",
       "    var script = document.createElement('script'),\n",
       "    src = URL.createObjectURL(event.target.response);\n",
       "    script.src = src;\n",
       "    document.body.appendChild(script);\n",
       "  };\n",
       "xhr.send();\n",
       "</script>"
      ]
     },
     "metadata": {
      "application/vnd.bokehjs_exec.v0+json": {
       "server_id": "beed56802b7947f0941274a0b1ba26a3"
      }
     },
     "output_type": "display_data"
    }
   ],
   "source": [
    "import biocircuits.apps\n",
    "\n",
    "app = biocircuits.apps.ffl_app()\n",
    "bokeh.io.show(app)"
   ]
  },
  {
   "cell_type": "code",
   "execution_count": 15,
   "metadata": {},
   "outputs": [],
   "source": [
    "beta = 5\n",
    "gamma = 10\n",
    "kappa = 1\n",
    "n_xy, n_yz = 3, 3\n",
    "n_xz = 5\n",
    "t = np.linspace(0, 2, 200)"
   ]
  },
  {
   "cell_type": "code",
   "execution_count": 16,
   "metadata": {},
   "outputs": [
    {
     "data": {
      "text/html": [
       "\n",
       "\n",
       "\n",
       "\n",
       "\n",
       "\n",
       "  <div class=\"bk-root\" id=\"1c630b25-b78e-4577-a2e4-83e20966d418\" data-root-id=\"1986\"></div>\n"
      ]
     },
     "metadata": {},
     "output_type": "display_data"
    },
    {
     "data": {
      "application/javascript": [
       "(function(root) {\n",
       "  function embed_document(root) {\n",
       "    \n",
       "  var docs_json = {\"9351873d-b720-4e54-aeff-3bcad3fa2c5d\":{\"roots\":{\"references\":[{\"attributes\":{\"below\":[{\"id\":\"1995\"}],\"center\":[{\"id\":\"1998\"},{\"id\":\"2002\"},{\"id\":\"2033\"}],\"frame_height\":175,\"frame_width\":550,\"left\":[{\"id\":\"1999\"}],\"renderers\":[{\"id\":\"2022\"},{\"id\":\"2038\"},{\"id\":\"2055\"},{\"id\":\"2072\"}],\"title\":{\"id\":\"2025\"},\"toolbar\":{\"id\":\"2010\"},\"x_range\":{\"id\":\"1987\"},\"x_scale\":{\"id\":\"1991\"},\"y_range\":{\"id\":\"1989\"},\"y_scale\":{\"id\":\"1993\"}},\"id\":\"1986\",\"subtype\":\"Figure\",\"type\":\"Plot\"},{\"attributes\":{},\"id\":\"2003\",\"type\":\"PanTool\"},{\"attributes\":{\"click_policy\":\"hide\",\"items\":[{\"id\":\"2034\"},{\"id\":\"2051\"},{\"id\":\"2068\"},{\"id\":\"2087\"}]},\"id\":\"2033\",\"type\":\"Legend\"},{\"attributes\":{\"data\":{\"x\":{\"__ndarray__\":\"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\",\"dtype\":\"float64\",\"order\":\"little\",\"shape\":[200]},\"y\":{\"__ndarray__\":\"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\",\"dtype\":\"float64\",\"order\":\"little\",\"shape\":[200]}},\"selected\":{\"id\":\"2085\"},\"selection_policy\":{\"id\":\"2086\"}},\"id\":\"2069\",\"type\":\"ColumnDataSource\"},{\"attributes\":{\"data_source\":{\"id\":\"2069\"},\"glyph\":{\"id\":\"2070\"},\"hover_glyph\":null,\"muted_glyph\":null,\"nonselection_glyph\":{\"id\":\"2071\"},\"selection_glyph\":null,\"view\":{\"id\":\"2073\"}},\"id\":\"2072\",\"type\":\"GlyphRenderer\"},{\"attributes\":{},\"id\":\"2086\",\"type\":\"UnionRenderers\"},{\"attributes\":{\"axis\":{\"id\":\"1999\"},\"dimension\":1,\"ticker\":null},\"id\":\"2002\",\"type\":\"Grid\"},{\"attributes\":{},\"id\":\"2085\",\"type\":\"Selection\"},{\"attributes\":{\"source\":{\"id\":\"2018\"}},\"id\":\"2023\",\"type\":\"CDSView\"},{\"attributes\":{},\"id\":\"1989\",\"type\":\"DataRange1d\"},{\"attributes\":{\"source\":{\"id\":\"2069\"}},\"id\":\"2073\",\"type\":\"CDSView\"},{\"attributes\":{\"data\":{\"t\":{\"__ndarray__\":\"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\",\"dtype\":\"float64\",\"order\":\"little\",\"shape\":[201]},\"y\":{\"__ndarray__\":\"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\",\"dtype\":\"float64\",\"order\":\"little\",\"shape\":[201]},\"z\":{\"__ndarray__\":\"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\",\"dtype\":\"float64\",\"order\":\"little\",\"shape\":[201]}},\"selected\":{\"id\":\"2049\"},\"selection_policy\":{\"id\":\"2050\"}},\"id\":\"2017\",\"type\":\"ColumnDataSource\"},{\"attributes\":{\"label\":{\"value\":\"x\"},\"renderers\":[{\"id\":\"2022\"}]},\"id\":\"2034\",\"type\":\"LegendItem\"},{\"attributes\":{\"overlay\":{\"id\":\"2009\"}},\"id\":\"2005\",\"type\":\"BoxZoomTool\"},{\"attributes\":{\"data_source\":{\"id\":\"2017\"},\"glyph\":{\"id\":\"2053\"},\"hover_glyph\":null,\"muted_glyph\":null,\"nonselection_glyph\":{\"id\":\"2054\"},\"selection_glyph\":null,\"view\":{\"id\":\"2056\"}},\"id\":\"2055\",\"type\":\"GlyphRenderer\"},{\"attributes\":{\"source\":{\"id\":\"2017\"}},\"id\":\"2056\",\"type\":\"CDSView\"},{\"attributes\":{},\"id\":\"2029\",\"type\":\"BasicTickFormatter\"},{\"attributes\":{\"data_source\":{\"id\":\"2017\"},\"glyph\":{\"id\":\"2036\"},\"hover_glyph\":null,\"muted_glyph\":null,\"nonselection_glyph\":{\"id\":\"2037\"},\"selection_glyph\":null,\"view\":{\"id\":\"2039\"}},\"id\":\"2038\",\"type\":\"GlyphRenderer\"},{\"attributes\":{\"axis_label\":\"norm. dimensionless conc.\",\"formatter\":{\"id\":\"2027\"},\"ticker\":{\"id\":\"2000\"}},\"id\":\"1999\",\"type\":\"LinearAxis\"},{\"attributes\":{},\"id\":\"2008\",\"type\":\"HelpTool\"},{\"attributes\":{\"text\":\"\"},\"id\":\"2025\",\"type\":\"Title\"},{\"attributes\":{},\"id\":\"2049\",\"type\":\"Selection\"},{\"attributes\":{\"line_alpha\":0.1,\"line_color\":\"#1f77b3\",\"line_width\":2,\"x\":{\"field\":\"t\"},\"y\":{\"field\":\"x\"}},\"id\":\"2021\",\"type\":\"Line\"},{\"attributes\":{\"axis_label\":\"dimensionless time\",\"formatter\":{\"id\":\"2029\"},\"ticker\":{\"id\":\"1996\"}},\"id\":\"1995\",\"type\":\"LinearAxis\"},{\"attributes\":{\"line_color\":\"#ff7e0e\",\"line_width\":2,\"x\":{\"field\":\"t\"},\"y\":{\"field\":\"y\"}},\"id\":\"2036\",\"type\":\"Line\"},{\"attributes\":{\"data\":{\"t\":{\"__ndarray__\":\"mpmZmZmZyb8AAAAAAAAAAAAAAAAAAAAAAAAAAAAAAEA=\",\"dtype\":\"float64\",\"order\":\"little\",\"shape\":[4]},\"x\":{\"__ndarray__\":\"AAAAAAAAAAAAAAAAAAAAAAAAAAAAAPA/AAAAAAAA8D8=\",\"dtype\":\"float64\",\"order\":\"little\",\"shape\":[4]}},\"selected\":{\"id\":\"2031\"},\"selection_policy\":{\"id\":\"2032\"}},\"id\":\"2018\",\"type\":\"ColumnDataSource\"},{\"attributes\":{\"line_alpha\":0.1,\"line_color\":\"#cb4f70\",\"line_width\":2,\"x\":{\"field\":\"x\"},\"y\":{\"field\":\"y\"}},\"id\":\"2071\",\"type\":\"Line\"},{\"attributes\":{\"bottom_units\":\"screen\",\"fill_alpha\":0.5,\"fill_color\":\"lightgrey\",\"left_units\":\"screen\",\"level\":\"overlay\",\"line_alpha\":1.0,\"line_color\":\"black\",\"line_dash\":[4,4],\"line_width\":2,\"right_units\":\"screen\",\"top_units\":\"screen\"},\"id\":\"2009\",\"type\":\"BoxAnnotation\"},{\"attributes\":{},\"id\":\"1993\",\"type\":\"LinearScale\"},{\"attributes\":{\"label\":{\"value\":\"z\"},\"renderers\":[{\"id\":\"2055\"}]},\"id\":\"2068\",\"type\":\"LegendItem\"},{\"attributes\":{\"line_alpha\":0.1,\"line_color\":\"#ff7e0e\",\"line_width\":2,\"x\":{\"field\":\"t\"},\"y\":{\"field\":\"y\"}},\"id\":\"2037\",\"type\":\"Line\"},{\"attributes\":{},\"id\":\"2004\",\"type\":\"WheelZoomTool\"},{\"attributes\":{\"source\":{\"id\":\"2017\"}},\"id\":\"2039\",\"type\":\"CDSView\"},{\"attributes\":{},\"id\":\"2032\",\"type\":\"UnionRenderers\"},{\"attributes\":{},\"id\":\"2031\",\"type\":\"Selection\"},{\"attributes\":{\"line_color\":\"#cb4f70\",\"line_width\":2,\"x\":{\"field\":\"x\"},\"y\":{\"field\":\"y\"}},\"id\":\"2070\",\"type\":\"Line\"},{\"attributes\":{\"line_color\":\"#1f77b3\",\"line_width\":2,\"x\":{\"field\":\"t\"},\"y\":{\"field\":\"x\"}},\"id\":\"2020\",\"type\":\"Line\"},{\"attributes\":{},\"id\":\"2007\",\"type\":\"ResetTool\"},{\"attributes\":{\"end\":2.0,\"start\":-0.2},\"id\":\"1987\",\"type\":\"Range1d\"},{\"attributes\":{\"label\":{\"value\":\"y\"},\"renderers\":[{\"id\":\"2038\"}]},\"id\":\"2051\",\"type\":\"LegendItem\"},{\"attributes\":{},\"id\":\"2027\",\"type\":\"BasicTickFormatter\"},{\"attributes\":{},\"id\":\"1991\",\"type\":\"LinearScale\"},{\"attributes\":{},\"id\":\"2006\",\"type\":\"SaveTool\"},{\"attributes\":{\"line_color\":\"#2ba02b\",\"line_width\":2,\"x\":{\"field\":\"t\"},\"y\":{\"field\":\"z\"}},\"id\":\"2053\",\"type\":\"Line\"},{\"attributes\":{\"label\":{\"value\":\"unregulated\"},\"renderers\":[{\"id\":\"2072\"}]},\"id\":\"2087\",\"type\":\"LegendItem\"},{\"attributes\":{\"data_source\":{\"id\":\"2018\"},\"glyph\":{\"id\":\"2020\"},\"hover_glyph\":null,\"muted_glyph\":null,\"nonselection_glyph\":{\"id\":\"2021\"},\"selection_glyph\":null,\"view\":{\"id\":\"2023\"}},\"id\":\"2022\",\"type\":\"GlyphRenderer\"},{\"attributes\":{},\"id\":\"2000\",\"type\":\"BasicTicker\"},{\"attributes\":{\"active_drag\":\"auto\",\"active_inspect\":\"auto\",\"active_multi\":null,\"active_scroll\":\"auto\",\"active_tap\":\"auto\",\"tools\":[{\"id\":\"2003\"},{\"id\":\"2004\"},{\"id\":\"2005\"},{\"id\":\"2006\"},{\"id\":\"2007\"},{\"id\":\"2008\"}]},\"id\":\"2010\",\"type\":\"Toolbar\"},{\"attributes\":{\"line_alpha\":0.1,\"line_color\":\"#2ba02b\",\"line_width\":2,\"x\":{\"field\":\"t\"},\"y\":{\"field\":\"z\"}},\"id\":\"2054\",\"type\":\"Line\"},{\"attributes\":{\"axis\":{\"id\":\"1995\"},\"ticker\":null},\"id\":\"1998\",\"type\":\"Grid\"},{\"attributes\":{},\"id\":\"1996\",\"type\":\"BasicTicker\"},{\"attributes\":{},\"id\":\"2050\",\"type\":\"UnionRenderers\"}],\"root_ids\":[\"1986\"]},\"title\":\"Bokeh Application\",\"version\":\"2.2.2\"}};\n",
       "  var render_items = [{\"docid\":\"9351873d-b720-4e54-aeff-3bcad3fa2c5d\",\"root_ids\":[\"1986\"],\"roots\":{\"1986\":\"1c630b25-b78e-4577-a2e4-83e20966d418\"}}];\n",
       "  root.Bokeh.embed.embed_items_notebook(docs_json, render_items);\n",
       "\n",
       "  }\n",
       "  if (root.Bokeh !== undefined) {\n",
       "    embed_document(root);\n",
       "  } else {\n",
       "    var attempts = 0;\n",
       "    var timer = setInterval(function(root) {\n",
       "      if (root.Bokeh !== undefined) {\n",
       "        clearInterval(timer);\n",
       "        embed_document(root);\n",
       "      } else {\n",
       "        attempts++;\n",
       "        if (attempts > 100) {\n",
       "          clearInterval(timer);\n",
       "          console.log(\"Bokeh: ERROR: Unable to run BokehJS code because BokehJS library is missing\");\n",
       "        }\n",
       "      }\n",
       "    }, 10, root)\n",
       "  }\n",
       "})(window);"
      ],
      "application/vnd.bokehjs_exec.v0+json": ""
     },
     "metadata": {
      "application/vnd.bokehjs_exec.v0+json": {
       "id": "1986"
      }
     },
     "output_type": "display_data"
    }
   ],
   "source": [
    "from biocircuits.apps.ffl import _plot_ffl\n",
    "\n",
    "p, _, _ = _plot_ffl(\n",
    "    beta,\n",
    "    gamma,\n",
    "    kappa,\n",
    "    n_xy,\n",
    "    n_xz,\n",
    "    n_yz,\n",
    "    ffl=\"i1\",\n",
    "    logic=\"and\",\n",
    "    t=t,\n",
    "    t_step_down=np.inf,\n",
    "    normalized=True,\n",
    ")\n",
    "\n",
    "# # .... UNREGULATED DYNAMICS ....\n",
    "# p.line(\n",
    "#     t, 1 - np.exp(-t), line_width=2, color=\"#7e92bd\", legend_label=\"lessons unregulated\",\n",
    "# )\n",
    "\n",
    "def deriv_unregulated(xz, t, gamma, n_xz):\n",
    "    x, z = xz\n",
    "    x_deriv = 0.0\n",
    "    z_deriv = gamma * ( 1.0/2.0 - z)\n",
    "    return np.array([x_deriv, z_deriv])\n",
    "\n",
    "xz0 = np.array([1.0, 0.0])\n",
    "xz_unregulated = scipy.integrate.odeint(deriv_unregulated, xz0, t, args=(gamma, n_xz))\n",
    "_, z_unregulated = xz_unregulated.T\n",
    "# z_unregulated /= z_unregulated.max()\n",
    "\n",
    "p.line(t, z_unregulated, line_width=2, color=\"#cb4f70\", legend_label=\"unregulated\")\n",
    "bokeh.io.show(p)"
   ]
  },
  {
   "cell_type": "code",
   "execution_count": 17,
   "metadata": {},
   "outputs": [],
   "source": [
    "def derivs(AB, t, β_A, β_B, γ, n, build):\n",
    "    A, B = AB\n",
    "    if build in [\"a\", \"A\", \"c\", \"C\"]: A_deriv = β_A * B**n/(1+B**n) - γ*A\n",
    "    else: A_deriv = β_A/(1+B**n) - γ*A\n",
    "    if build in [\"b\", \"B\", \"c\", \"C\"]: B_deriv = β_B/(1+A**n) - γ*B\n",
    "    else: B_deriv = β_B * A**n/(1+A**n) - γ*B\n",
    "    return np.array([A_deriv, B_deriv])"
   ]
  },
  {
   "cell_type": "code",
   "execution_count": 18,
   "metadata": {},
   "outputs": [
    {
     "data": {
      "text/html": [
       "\n",
       "\n",
       "\n",
       "\n",
       "\n",
       "\n",
       "  <div class=\"bk-root\" id=\"4fa9df4e-3edb-482c-ab4f-3a8cb7767a90\" data-root-id=\"2205\"></div>\n"
      ]
     },
     "metadata": {},
     "output_type": "display_data"
    },
    {
     "data": {
      "application/javascript": [
       "(function(root) {\n",
       "  function embed_document(root) {\n",
       "    \n",
       "  var docs_json = {\"a9e17362-beb9-4ba8-8628-ed61645caf9a\":{\"roots\":{\"references\":[{\"attributes\":{\"below\":[{\"id\":\"2214\"}],\"center\":[{\"id\":\"2217\"},{\"id\":\"2221\"}],\"left\":[{\"id\":\"2218\"}],\"renderers\":[{\"id\":\"2239\"}],\"title\":{\"id\":\"2294\"},\"toolbar\":{\"id\":\"2229\"},\"x_range\":{\"id\":\"2206\"},\"x_scale\":{\"id\":\"2210\"},\"y_range\":{\"id\":\"2208\"},\"y_scale\":{\"id\":\"2212\"}},\"id\":\"2205\",\"subtype\":\"Figure\",\"type\":\"Plot\"},{\"attributes\":{},\"id\":\"2296\",\"type\":\"BasicTickFormatter\"},{\"attributes\":{\"active_drag\":\"auto\",\"active_inspect\":\"auto\",\"active_multi\":null,\"active_scroll\":\"auto\",\"active_tap\":\"auto\",\"tools\":[{\"id\":\"2222\"},{\"id\":\"2223\"},{\"id\":\"2224\"},{\"id\":\"2225\"},{\"id\":\"2226\"},{\"id\":\"2227\"}]},\"id\":\"2229\",\"type\":\"Toolbar\"},{\"attributes\":{\"bottom_units\":\"screen\",\"fill_alpha\":0.5,\"fill_color\":\"lightgrey\",\"left_units\":\"screen\",\"level\":\"overlay\",\"line_alpha\":1.0,\"line_color\":\"black\",\"line_dash\":[4,4],\"line_width\":2,\"right_units\":\"screen\",\"top_units\":\"screen\"},\"id\":\"2228\",\"type\":\"BoxAnnotation\"},{\"attributes\":{},\"id\":\"2227\",\"type\":\"HelpTool\"},{\"attributes\":{\"text\":\"\"},\"id\":\"2294\",\"type\":\"Title\"},{\"attributes\":{},\"id\":\"2301\",\"type\":\"UnionRenderers\"},{\"attributes\":{},\"id\":\"2226\",\"type\":\"ResetTool\"},{\"attributes\":{\"formatter\":{\"id\":\"2298\"},\"ticker\":{\"id\":\"2215\"}},\"id\":\"2214\",\"type\":\"LinearAxis\"},{\"attributes\":{},\"id\":\"2210\",\"type\":\"LinearScale\"},{\"attributes\":{},\"id\":\"2206\",\"type\":\"DataRange1d\"},{\"attributes\":{\"formatter\":{\"id\":\"2296\"},\"ticker\":{\"id\":\"2219\"}},\"id\":\"2218\",\"type\":\"LinearAxis\"},{\"attributes\":{\"line_color\":\"#1f77b4\",\"x\":{\"field\":\"x\"},\"y\":{\"field\":\"y\"}},\"id\":\"2237\",\"type\":\"Line\"},{\"attributes\":{},\"id\":\"2222\",\"type\":\"PanTool\"},{\"attributes\":{\"axis\":{\"id\":\"2218\"},\"dimension\":1,\"ticker\":null},\"id\":\"2221\",\"type\":\"Grid\"},{\"attributes\":{},\"id\":\"2223\",\"type\":\"WheelZoomTool\"},{\"attributes\":{\"data_source\":{\"id\":\"2236\"},\"glyph\":{\"id\":\"2237\"},\"hover_glyph\":null,\"muted_glyph\":null,\"nonselection_glyph\":{\"id\":\"2238\"},\"selection_glyph\":null,\"view\":{\"id\":\"2240\"}},\"id\":\"2239\",\"type\":\"GlyphRenderer\"},{\"attributes\":{},\"id\":\"2212\",\"type\":\"LinearScale\"},{\"attributes\":{},\"id\":\"2208\",\"type\":\"DataRange1d\"},{\"attributes\":{\"line_alpha\":0.1,\"line_color\":\"#1f77b4\",\"x\":{\"field\":\"x\"},\"y\":{\"field\":\"y\"}},\"id\":\"2238\",\"type\":\"Line\"},{\"attributes\":{\"data\":{\"x\":{\"__ndarray__\":\"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\",\"dtype\":\"float64\",\"order\":\"little\",\"shape\":[500]},\"y\":{\"__ndarray__\":\"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\",\"dtype\":\"float64\",\"order\":\"little\",\"shape\":[500]}},\"selected\":{\"id\":\"2300\"},\"selection_policy\":{\"id\":\"2301\"}},\"id\":\"2236\",\"type\":\"ColumnDataSource\"},{\"attributes\":{},\"id\":\"2215\",\"type\":\"BasicTicker\"},{\"attributes\":{},\"id\":\"2225\",\"type\":\"SaveTool\"},{\"attributes\":{},\"id\":\"2298\",\"type\":\"BasicTickFormatter\"},{\"attributes\":{},\"id\":\"2300\",\"type\":\"Selection\"},{\"attributes\":{\"axis\":{\"id\":\"2214\"},\"ticker\":null},\"id\":\"2217\",\"type\":\"Grid\"},{\"attributes\":{\"source\":{\"id\":\"2236\"}},\"id\":\"2240\",\"type\":\"CDSView\"},{\"attributes\":{},\"id\":\"2219\",\"type\":\"BasicTicker\"},{\"attributes\":{\"overlay\":{\"id\":\"2228\"}},\"id\":\"2224\",\"type\":\"BoxZoomTool\"}],\"root_ids\":[\"2205\"]},\"title\":\"Bokeh Application\",\"version\":\"2.2.2\"}};\n",
       "  var render_items = [{\"docid\":\"a9e17362-beb9-4ba8-8628-ed61645caf9a\",\"root_ids\":[\"2205\"],\"roots\":{\"2205\":\"4fa9df4e-3edb-482c-ab4f-3a8cb7767a90\"}}];\n",
       "  root.Bokeh.embed.embed_items_notebook(docs_json, render_items);\n",
       "\n",
       "  }\n",
       "  if (root.Bokeh !== undefined) {\n",
       "    embed_document(root);\n",
       "  } else {\n",
       "    var attempts = 0;\n",
       "    var timer = setInterval(function(root) {\n",
       "      if (root.Bokeh !== undefined) {\n",
       "        clearInterval(timer);\n",
       "        embed_document(root);\n",
       "      } else {\n",
       "        attempts++;\n",
       "        if (attempts > 100) {\n",
       "          clearInterval(timer);\n",
       "          console.log(\"Bokeh: ERROR: Unable to run BokehJS code because BokehJS library is missing\");\n",
       "        }\n",
       "      }\n",
       "    }, 10, root)\n",
       "  }\n",
       "})(window);"
      ],
      "application/vnd.bokehjs_exec.v0+json": ""
     },
     "metadata": {
      "application/vnd.bokehjs_exec.v0+json": {
       "id": "2205"
      }
     },
     "output_type": "display_data"
    }
   ],
   "source": [
    "β_A = 1\n",
    "β_B = 1\n",
    "γ = 1\n",
    "n = 5\n",
    "\n",
    "AB0 = np.array([1, 0.0])\n",
    "t = np.linspace(0, 10, 500)\n",
    "AB = scipy.integrate.odeint(derivs, AB0, t, args=(β_A, β_B, γ, n, \"a\"))\n",
    "A, B = AB.T\n",
    "\n",
    "p = bokeh.plotting.figure()\n",
    "p.line(t, A)\n",
    "\n",
    "bokeh.io.show(p)"
   ]
  },
  {
   "cell_type": "code",
   "execution_count": 19,
   "metadata": {},
   "outputs": [],
   "source": [
    "t = np.linspace(0, 30, 500)"
   ]
  },
  {
   "cell_type": "code",
   "execution_count": 20,
   "metadata": {},
   "outputs": [],
   "source": [
    "β_A_slider = pn.widgets.FloatSlider(name=\"β_Α\", start=0.0, end=5.0, step=0.01, value=1.0)\n",
    "β_B_slider = pn.widgets.FloatSlider(name=\"β_B\", start=0.0, end=5.0, step=0.01, value=1.0)\n",
    "γ_slider = pn.widgets.FloatSlider(name=\"γ\", start=0.0, end=5.0, step=0.01, value=1.0)\n",
    "n_slider = pn.widgets.FloatSlider(name=\"n\", start=0.0, end=10.0, step=0.1, value=5.0)\n",
    "\n",
    "@pn.depends( β_A_slider.param.value, β_B_slider.param.value, \n",
    "             γ_slider.param.value, n_slider.param.value, \n",
    "           )\n",
    "def conc_plotter(β_Α, β_B, γ, n):\n",
    "    ABo = np.array([1.0, 0.0])\n",
    "#     ABo = np.array([0.0, 1.0])\n",
    "#     ABo = np.array([0.0, 0.0])\n",
    "#     ABo = np.array([1.0, 1.0])\n",
    "    \n",
    "    p = bokeh.plotting.figure(title=\"architecture (a)\", height=300, width=400, \n",
    "            x_axis_label=\"dimensionless time\", y_axis_label=\"dimensionless [ ]\")\n",
    "    q = bokeh.plotting.figure(title=\"architecture (b)\", height=300, width=400, \n",
    "            x_axis_label=\"dimensionless time\", y_axis_label=\"dimensionless [ ]\")\n",
    "    r = bokeh.plotting.figure(title=\"architecture (c)\", height=300, width=450, \n",
    "            x_axis_label=\"dimensionless time\", y_axis_label=\"dimensionless [ ]\")\n",
    "    \n",
    "    for build, plot in zip(['a', 'b', 'c'], [p, q, r]):\n",
    "        AB = scipy.integrate.odeint(derivs, ABo, t, args=(β_A, β_B, γ, n, build))\n",
    "        A, B = AB.T\n",
    "        plot.line(t, A/A.max(), line_color=\"#2ea58e\", line_width=3, )\n",
    "        plot.line(t, B/B.max(), line_color=\"#e97d86\", line_width=3, )\n",
    "        \n",
    "    legend = bokeh.models.Legend(items=[\n",
    "                                    (\"A\", [r.line(line_color=\"#2ea58e\", line_width=3)]), \n",
    "                                    (\"B\", [r.line(line_color=\"#e97d86\", line_width=3)])\n",
    "                                ], location=\"center\")\n",
    "    r.add_layout(legend, 'right')\n",
    "    \n",
    "    return bokeh.layouts.layout([[style(p), style(q), style(r),]])"
   ]
  },
  {
   "cell_type": "code",
   "execution_count": 21,
   "metadata": {},
   "outputs": [
    {
     "data": {},
     "metadata": {},
     "output_type": "display_data"
    },
    {
     "data": {
      "application/vnd.holoviews_exec.v0+json": "",
      "text/html": [
       "<div id='2491'>\n",
       "\n",
       "\n",
       "\n",
       "\n",
       "\n",
       "  <div class=\"bk-root\" id=\"d1b25e0e-4f1d-410f-a2ef-21b17264fc5c\" data-root-id=\"2491\"></div>\n",
       "</div>\n",
       "<script type=\"application/javascript\">(function(root) {\n",
       "  function embed_document(root) {\n",
       "    var docs_json = {\"cd874dfb-ef75-4582-a543-a9aed220ef0b\":{\"roots\":{\"references\":[{\"attributes\":{\"data\":{\"x\":{\"__ndarray__\":\"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\",\"dtype\":\"float64\",\"order\":\"little\",\"shape\":[500]},\"y\":{\"__ndarray__\":\"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\",\"dtype\":\"float64\",\"order\":\"little\",\"shape\":[500]}},\"selected\":{\"id\":\"2518\"},\"selection_policy\":{\"id\":\"2519\"}},\"id\":\"2451\",\"type\":\"ColumnDataSource\"},{\"attributes\":{},\"id\":\"2510\",\"type\":\"BasicTickFormatter\"},{\"attributes\":{\"axis\":{\"id\":\"2358\"},\"ticker\":null},\"id\":\"2361\",\"type\":\"Grid\"},{\"attributes\":{\"data\":{\"x\":{\"__ndarray__\":\"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\",\"dtype\":\"float64\",\"order\":\"little\",\"shape\":[500]},\"y\":{\"__ndarray__\":\"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\",\"dtype\":\"float64\",\"order\":\"little\",\"shape\":[500]}},\"selected\":{\"id\":\"2516\"},\"selection_policy\":{\"id\":\"2517\"}},\"id\":\"2446\",\"type\":\"ColumnDataSource\"},{\"attributes\":{},\"id\":\"2522\",\"type\":\"UnionRenderers\"},{\"attributes\":{\"align\":\"center\",\"text\":\"architecture (a)\",\"text_font\":\"Helvetica\",\"text_font_size\":{\"value\":\"16px\"}},\"id\":\"2348\",\"type\":\"Title\"},{\"attributes\":{\"source\":{\"id\":\"2476\"}},\"id\":\"2480\",\"type\":\"CDSView\"},{\"attributes\":{},\"id\":\"2524\",\"type\":\"UnionRenderers\"},{\"attributes\":{},\"id\":\"2396\",\"type\":\"BasicTicker\"},{\"attributes\":{},\"id\":\"2517\",\"type\":\"UnionRenderers\"},{\"attributes\":{\"align\":\"center\",\"text\":\"architecture (b)\",\"text_font\":\"Helvetica\",\"text_font_size\":{\"value\":\"16px\"}},\"id\":\"2381\",\"type\":\"Title\"},{\"attributes\":{\"data_source\":{\"id\":\"2481\"},\"glyph\":{\"id\":\"2482\"},\"hover_glyph\":null,\"muted_glyph\":null,\"nonselection_glyph\":{\"id\":\"2483\"},\"selection_glyph\":null,\"view\":{\"id\":\"2485\"}},\"id\":\"2484\",\"type\":\"GlyphRenderer\"},{\"attributes\":{},\"id\":\"2392\",\"type\":\"BasicTicker\"},{\"attributes\":{\"active_drag\":\"auto\",\"active_inspect\":\"auto\",\"active_multi\":null,\"active_scroll\":\"auto\",\"active_tap\":\"auto\",\"tools\":[{\"id\":\"2366\"},{\"id\":\"2367\"},{\"id\":\"2368\"},{\"id\":\"2369\"},{\"id\":\"2370\"},{\"id\":\"2371\"}]},\"id\":\"2373\",\"type\":\"Toolbar\"},{\"attributes\":{\"data_source\":{\"id\":\"2466\"},\"glyph\":{\"id\":\"2467\"},\"hover_glyph\":null,\"muted_glyph\":null,\"nonselection_glyph\":{\"id\":\"2468\"},\"selection_glyph\":null,\"view\":{\"id\":\"2470\"}},\"id\":\"2469\",\"type\":\"GlyphRenderer\"},{\"attributes\":{\"align\":\"center\",\"children\":[{\"id\":\"2493\"},{\"id\":\"2496\"}],\"margin\":[0,0,0,0],\"name\":\"Row00026\"},\"id\":\"2492\",\"type\":\"Row\"},{\"attributes\":{\"source\":{\"id\":\"2481\"}},\"id\":\"2485\",\"type\":\"CDSView\"},{\"attributes\":{\"bottom_units\":\"screen\",\"fill_alpha\":0.5,\"fill_color\":\"lightgrey\",\"left_units\":\"screen\",\"level\":\"overlay\",\"line_alpha\":1.0,\"line_color\":\"black\",\"line_dash\":[4,4],\"line_width\":2,\"right_units\":\"screen\",\"top_units\":\"screen\"},\"id\":\"2405\",\"type\":\"BoxAnnotation\"},{\"attributes\":{\"line_color\":\"#e97d86\",\"line_width\":3},\"id\":\"2482\",\"type\":\"Line\"},{\"attributes\":{},\"id\":\"2521\",\"type\":\"Selection\"},{\"attributes\":{\"end\":10.0,\"format\":\"0[.]00\",\"margin\":[5,10,5,10],\"start\":0.0,\"step\":0.1,\"title\":\"n\",\"value\":5.0,\"value_throttled\":5.0},\"id\":\"2498\",\"type\":\"Slider\"},{\"attributes\":{},\"id\":\"2356\",\"type\":\"LinearScale\"},{\"attributes\":{\"data\":{},\"selected\":{\"id\":\"2532\"},\"selection_policy\":{\"id\":\"2533\"}},\"id\":\"2481\",\"type\":\"ColumnDataSource\"},{\"attributes\":{\"axis_label\":\"dimensionless time\",\"axis_label_text_font\":\"Helvetica\",\"formatter\":{\"id\":\"2506\"},\"ticker\":{\"id\":\"2359\"}},\"id\":\"2358\",\"type\":\"LinearAxis\"},{\"attributes\":{\"source\":{\"id\":\"2471\"}},\"id\":\"2475\",\"type\":\"CDSView\"},{\"attributes\":{},\"id\":\"2354\",\"type\":\"LinearScale\"},{\"attributes\":{\"overlay\":{\"id\":\"2405\"}},\"id\":\"2401\",\"type\":\"BoxZoomTool\"},{\"attributes\":{\"data\":{\"x\":{\"__ndarray__\":\"AAAAAAAAAACXA2OFFMiuP5cDY4UUyL4/sUIKZA8Wxz+XA2OFFMjOPz7iXdMMPdM/sUIKZA8W1z8ko7b0Ee/aP5cDY4UUyN4/BbIHi4tQ4T8+4l3TDD3jP3gStBuOKeU/sUIKZA8W5z/rcmCskALpPySjtvQR7+o/XtMMPZPb7D+XA2OFFMjuP+iZ3OZKWvA/BbIHi4tQ8T8iyjIvzEbyPz7iXdMMPfM/W/qId00z9D94ErQbjin1P5Uq37/OH/Y/sUIKZA8W9z/OWjUIUAz4P+tyYKyQAvk/B4uLUNH4+T8ko7b0Ee/6P0G74ZhS5fs/XtMMPZPb/D966zfh09H9P5cDY4UUyP4/tBuOKVW+/z/omdzmSloAQPcl8jhr1QBABbIHi4tQAUATPh3dq8sBQCLKMi/MRgJAMFZIgezBAkA+4l3TDD0DQE1ucyUtuANAW/qId00zBEBphp7Jba4EQHgStBuOKQVAhp7Jba6kBUCVKt+/zh8GQKO29BHvmgZAsUIKZA8WB0DAzh+2L5EHQM5aNQhQDAhA3OZKWnCHCEDrcmCskAIJQPn+df6wfQlAB4uLUNH4CUAWF6Gi8XMKQCSjtvQR7wpAMi/MRjJqC0BBu+GYUuULQE9H9+pyYAxAXtMMPZPbDEBsXyKPs1YNQHrrN+HT0Q1AiXdNM/RMDkCXA2OFFMgOQKWPeNc0Qw9AtBuOKVW+D0Dh09G9uhwQQOiZ3OZKWhBA71/nD9uXEED3JfI4a9UQQP7r/GH7EhFABbIHi4tQEUAMeBK0G44RQBM+Hd2ryxFAGgQoBjwJEkAiyjIvzEYSQCmQPVhchBJAMFZIgezBEkA3HFOqfP8SQD7iXdMMPRNARqho/Jx6E0BNbnMlLbgTQFQ0fk699RNAW/qId00zFEBiwJOg3XAUQGmGnsltrhRAcUyp8v3rFEB4ErQbjikVQH/YvkQeZxVAhp7Jba6kFUCNZNSWPuIVQJUq37/OHxZAnPDp6F5dFkCjtvQR75oWQKp8/zp/2BZAsUIKZA8WF0C4CBWNn1MXQMDOH7YvkRdAx5Qq37/OF0DOWjUIUAwYQNUgQDHgSRhA3OZKWnCHGEDkrFWDAMUYQOtyYKyQAhlA8jhr1SBAGUD5/nX+sH0ZQADFgCdBuxlAB4uLUNH4GUAPUZZ5YTYaQBYXoaLxcxpAHd2ry4GxGkAko7b0Ee8aQCtpwR2iLBtAMi/MRjJqG0A69dZvwqcbQEG74ZhS5RtASIHsweIiHEBPR/fqcmAcQFYNAhQDnhxAXtMMPZPbHEBlmRdmIxkdQGxfIo+zVh1AcyUtuEOUHUB66zfh09EdQIGxQgpkDx5AiXdNM/RMHkCQPVhchIoeQJcDY4UUyB5AnsltrqQFH0Clj3jXNEMfQK1VgwDFgB9AtBuOKVW+H0C74ZhS5fsfQOHT0b26HCBA5TZX0oI7IEDomdzmSlogQOz8YfsSeSBA71/nD9uXIEDzwmwko7YgQPcl8jhr1SBA+oh3TTP0IED+6/xh+xIhQAFPgnbDMSFABbIHi4tQIUAJFY2fU28hQAx4ErQbjiFAENuXyOOsIUATPh3dq8shQBehovFz6iFAGgQoBjwJIkAeZ60aBCgiQCLKMi/MRiJAJS24Q5RlIkApkD1YXIQiQCzzwmwkoyJAMFZIgezBIkA0uc2VtOAiQDccU6p8/yJAO3/YvkQeI0A+4l3TDD0jQEJF4+fUWyNARqho/Jx6I0BJC+4QZZkjQE1ucyUtuCNAUNH4OfXWI0BUNH5OvfUjQFiXA2OFFCRAW/qId00zJEBfXQ6MFVIkQGLAk6DdcCRAZiMZtaWPJEBphp7Jba4kQG3pI941zSRAcUyp8v3rJEB0ry4HxgolQHgStBuOKSVAe3U5MFZIJUB/2L5EHmclQIM7RFnmhSVAhp7Jba6kJUCKAU+CdsMlQI1k1JY+4iVAkcdZqwYBJkCVKt+/zh8mQJiNZNSWPiZAnPDp6F5dJkCfU2/9JnwmQKO29BHvmiZAphl6Jre5JkCqfP86f9gmQK7fhE9H9yZAsUIKZA8WJ0C1pY941zQnQLgIFY2fUydAvGuaoWdyJ0DAzh+2L5EnQMMxpcr3rydAx5Qq37/OJ0DK96/zh+0nQM5aNQhQDChA0r26HBgrKEDVIEAx4EkoQNmDxUWoaChA3OZKWnCHKEDgSdBuOKYoQOSsVYMAxShA5w/bl8jjKEDrcmCskAIpQO7V5cBYISlA8jhr1SBAKUD1m/Dp6F4pQPn+df6wfSlA/WH7EnmcKUAAxYAnQbspQAQoBjwJ2ilAB4uLUNH4KUAL7hBlmRcqQA9RlnlhNipAErQbjilVKkAWF6Gi8XMqQBl6Jre5kipAHd2ry4GxKkAhQDHgSdAqQCSjtvQR7ypAKAY8CdoNK0AracEdoiwrQC/MRjJqSytAMi/MRjJqK0A2klFb+ogrQDr11m/CpytAPVhchIrGK0BBu+GYUuUrQEQeZ60aBCxASIHsweIiLEBM5HHWqkEsQE9H9+pyYCxAU6p8/zp/LEBWDQIUA54sQFpwhyjLvCxAXtMMPZPbLEBhNpJRW/osQGWZF2YjGS1AaPyceus3LUBsXyKPs1YtQHDCp6N7dS1AcyUtuEOULUB3iLLMC7MtQHrrN+HT0S1Afk699ZvwLUCBsUIKZA8uQIUUyB4sLi5AiXdNM/RMLkCM2tJHvGsuQJA9WFyEii5Ak6DdcEypLkCXA2OFFMguQJtm6Jnc5i5AnsltrqQFL0CiLPPCbCQvQKWPeNc0Qy9AqfL96/xhL0CtVYMAxYAvQLC4CBWNny9AtBuOKVW+L0C3fhM+Hd0vQLvhmFLl+y9AXyKPs1YNMEDh09G9uhwwQGOFFMgeLDBA5TZX0oI7MEBm6Jnc5kowQOiZ3OZKWjBAaksf8a5pMEDs/GH7EnkwQG6upAV3iDBA71/nD9uXMEBxESoaP6cwQPPCbCSjtjBAdXSvLgfGMED3JfI4a9UwQHjXNEPP5DBA+oh3TTP0MEB8OrpXlwMxQP7r/GH7EjFAgJ0/bF8iMUABT4J2wzExQIMAxYAnQTFABbIHi4tQMUCHY0qV718xQAkVjZ9TbzFAisbPqbd+MUAMeBK0G44xQI4pVb5/nTFAENuXyOOsMUCSjNrSR7wxQBM+Hd2ryzFAle9f5w/bMUAXoaLxc+oxQJlS5fvX+TFAGgQoBjwJMkCctWoQoBgyQB5nrRoEKDJAoBjwJGg3MkAiyjIvzEYyQKN7dTkwVjJAJS24Q5RlMkCn3vpN+HQyQCmQPVhchDJAq0GAYsCTMkAs88JsJKMyQK6kBXeIsjJAMFZIgezBMkCyB4uLUNEyQDS5zZW04DJAtWoQoBjwMkA3HFOqfP8yQLnNlbTgDjNAO3/YvkQeM0C9MBvJqC0zQD7iXdMMPTNAwJOg3XBMM0BCRePn1FszQMT2JfI4azNARqho/Jx6M0DHWasGAYozQEkL7hBlmTNAy7wwG8moM0BNbnMlLbgzQM8fti+RxzNAUNH4OfXWM0DSgjtEWeYzQFQ0fk699TNA1uXAWCEFNEBYlwNjhRQ0QNlIRm3pIzRAW/qId00zNEDdq8uBsUI0QF9dDowVUjRA4A5RlnlhNEBiwJOg3XA0QORx1qpBgDRAZiMZtaWPNEDo1Fu/CZ80QGmGnsltrjRA6zfh09G9NEBt6SPeNc00QO+aZuiZ3DRAcUyp8v3rNEDy/ev8Yfs0QHSvLgfGCjVA9mBxESoaNUB4ErQbjik1QPrD9iXyODVAe3U5MFZINUD9Jnw6ulc1QH/YvkQeZzVAAYoBT4J2NUCDO0RZ5oU1QATthmNKlTVAhp7Jba6kNUAIUAx4ErQ1QIoBT4J2wzVADLORjNrSNUCNZNSWPuI1QA8WF6Gi8TVAkcdZqwYBNkATeZy1ahA2QJUq37/OHzZAFtwhyjIvNkCYjWTUlj42QBo/p976TTZAnPDp6F5dNkAeoizzwmw2QJ9Tb/0mfDZAIQWyB4uLNkCjtvQR75o2QCVoNxxTqjZAphl6Jre5NkAoy7wwG8k2QKp8/zp/2DZALC5CRePnNkCu34RPR/c2QC+Rx1mrBjdAsUIKZA8WN0Az9ExucyU3QLWlj3jXNDdAN1fSgjtEN0C4CBWNn1M3QDq6V5cDYzdAvGuaoWdyN0A+Hd2ry4E3QMDOH7YvkTdAQYBiwJOgN0DDMaXK9683QEXj59RbvzdAx5Qq37/ON0BJRm3pI943QMr3r/OH7TdATKny/ev8N0DOWjUIUAw4QFAMeBK0GzhA0r26HBgrOEBTb/0mfDo4QNUgQDHgSThAV9KCO0RZOEDZg8VFqGg4QFs1CFAMeDhA3OZKWnCHOEBemI1k1JY4QOBJ0G44pjhAYvsSeZy1OEDkrFWDAMU4QGVemI1k1DhA5w/bl8jjOEBpwR2iLPM4QOtyYKyQAjlAbCSjtvQROUDu1eXAWCE5QHCHKMu8MDlA8jhr1SBAOUB06q3fhE85QPWb8OnoXjlAd00z9ExuOUD5/nX+sH05QHuwuAgVjTlA/WH7EnmcOUB+Ez4d3as5QADFgCdBuzlAgnbDMaXKOUAEKAY8Cdo5QIbZSEZt6TlAB4uLUNH4OUCJPM5aNQg6QAvuEGWZFzpAjZ9Tb/0mOkAPUZZ5YTY6QJAC2YPFRTpAErQbjilVOkCUZV6YjWQ6QBYXoaLxczpAmMjjrFWDOkAZeia3uZI6QJsracEdojpAHd2ry4GxOkCfju7V5cA6QCFAMeBJ0DpAovFz6q3fOkAko7b0Ee86QKZU+f51/jpAKAY8CdoNO0Cqt34TPh07QCtpwR2iLDtArRoEKAY8O0AvzEYyaks7QLF9iTzOWjtAMi/MRjJqO0C04A5Rlnk7QDaSUVv6iDtAuEOUZV6YO0A69dZvwqc7QLumGXomtztAPVhchIrGO0C/CZ+O7tU7QEG74ZhS5TtAw2wko7b0O0BEHmetGgQ8QMbPqbd+EzxASIHsweIiPEDKMi/MRjI8QEzkcdaqQTxAzZW04A5RPEBPR/fqcmA8QNH4OfXWbzxAU6p8/zp/PEDVW78Jn448QFYNAhQDnjxA2L5EHmetPEBacIcoy7w8QNwhyjIvzDxAXtMMPZPbPEDfhE9H9+o8QGE2klFb+jxA4+fUW78JPUBlmRdmIxk9QOdKWnCHKD1AaPyceus3PUDqrd+ET0c9QGxfIo+zVj1A7hBlmRdmPUBwwqeje3U9QPFz6q3fhD1AcyUtuEOUPUD11m/Cp6M9QHeIsswLsz1A+Dn11m/CPUB66zfh09E9QPyceus34T1Afk699ZvwPUAAAAAAAAA+QA==\",\"dtype\":\"float64\",\"order\":\"little\",\"shape\":[500]},\"y\":{\"__ndarray__\":\"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\",\"dtype\":\"float64\",\"order\":\"little\",\"shape\":[500]}},\"selected\":{\"id\":\"2526\"},\"selection_policy\":{\"id\":\"2527\"}},\"id\":\"2466\",\"type\":\"ColumnDataSource\"},{\"attributes\":{},\"id\":\"2399\",\"type\":\"PanTool\"},{\"attributes\":{\"line_color\":\"#e97d86\",\"line_width\":3,\"x\":{\"field\":\"x\"},\"y\":{\"field\":\"y\"}},\"id\":\"2472\",\"type\":\"Line\"},{\"attributes\":{\"data_source\":{\"id\":\"2476\"},\"glyph\":{\"id\":\"2477\"},\"hover_glyph\":null,\"muted_glyph\":null,\"nonselection_glyph\":{\"id\":\"2478\"},\"selection_glyph\":null,\"view\":{\"id\":\"2480\"}},\"id\":\"2479\",\"type\":\"GlyphRenderer\"},{\"attributes\":{},\"id\":\"2363\",\"type\":\"BasicTicker\"},{\"attributes\":{\"data\":{\"x\":{\"__ndarray__\":\"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\",\"dtype\":\"float64\",\"order\":\"little\",\"shape\":[500]},\"y\":{\"__ndarray__\":\"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\",\"dtype\":\"float64\",\"order\":\"little\",\"shape\":[500]}},\"selected\":{\"id\":\"2521\"},\"selection_policy\":{\"id\":\"2522\"}},\"id\":\"2456\",\"type\":\"ColumnDataSource\"},{\"attributes\":{\"line_alpha\":0.1,\"line_color\":\"#2ea58e\",\"line_width\":3},\"id\":\"2478\",\"type\":\"Line\"},{\"attributes\":{},\"id\":\"2516\",\"type\":\"Selection\"},{\"attributes\":{\"source\":{\"id\":\"2466\"}},\"id\":\"2470\",\"type\":\"CDSView\"},{\"attributes\":{},\"id\":\"2389\",\"type\":\"LinearScale\"},{\"attributes\":{},\"id\":\"2366\",\"type\":\"PanTool\"},{\"attributes\":{\"data\":{\"x\":{\"__ndarray__\":\"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\",\"dtype\":\"float64\",\"order\":\"little\",\"shape\":[500]},\"y\":{\"__ndarray__\":\"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\",\"dtype\":\"float64\",\"order\":\"little\",\"shape\":[500]}},\"selected\":{\"id\":\"2523\"},\"selection_policy\":{\"id\":\"2524\"}},\"id\":\"2461\",\"type\":\"ColumnDataSource\"},{\"attributes\":{},\"id\":\"2369\",\"type\":\"SaveTool\"},{\"attributes\":{\"line_color\":\"#e97d86\",\"line_width\":3,\"x\":{\"field\":\"x\"},\"y\":{\"field\":\"y\"}},\"id\":\"2462\",\"type\":\"Line\"},{\"attributes\":{},\"id\":\"2529\",\"type\":\"UnionRenderers\"},{\"attributes\":{\"data_source\":{\"id\":\"2471\"},\"glyph\":{\"id\":\"2472\"},\"hover_glyph\":null,\"muted_glyph\":null,\"nonselection_glyph\":{\"id\":\"2473\"},\"selection_glyph\":null,\"view\":{\"id\":\"2475\"}},\"id\":\"2474\",\"type\":\"GlyphRenderer\"},{\"attributes\":{\"axis_label\":\"dimensionless time\",\"axis_label_text_font\":\"Helvetica\",\"formatter\":{\"id\":\"2510\"},\"ticker\":{\"id\":\"2392\"}},\"id\":\"2391\",\"type\":\"LinearAxis\"},{\"attributes\":{},\"id\":\"2531\",\"type\":\"UnionRenderers\"},{\"attributes\":{\"children\":[{\"id\":\"2497\"},{\"id\":\"2498\"}],\"margin\":[0,0,0,0],\"name\":\"Column00025\"},\"id\":\"2496\",\"type\":\"Column\"},{\"attributes\":{},\"id\":\"2370\",\"type\":\"ResetTool\"},{\"attributes\":{\"axis\":{\"id\":\"2391\"},\"ticker\":null},\"id\":\"2394\",\"type\":\"Grid\"},{\"attributes\":{\"line_color\":\"#2ea58e\",\"line_width\":3,\"x\":{\"field\":\"x\"},\"y\":{\"field\":\"y\"}},\"id\":\"2447\",\"type\":\"Line\"},{\"attributes\":{\"label\":{\"value\":\"A\"},\"renderers\":[{\"id\":\"2479\"}]},\"id\":\"2487\",\"type\":\"LegendItem\"},{\"attributes\":{\"children\":[{\"id\":\"2490\"}],\"margin\":[0,0,0,0],\"name\":\"Row00031\"},\"id\":\"2499\",\"type\":\"Row\"},{\"attributes\":{},\"id\":\"2418\",\"type\":\"DataRange1d\"},{\"attributes\":{},\"id\":\"2514\",\"type\":\"BasicTickFormatter\"},{\"attributes\":{\"axis_label\":\"dimensionless [ ]\",\"axis_label_text_font\":\"Helvetica\",\"formatter\":{\"id\":\"2512\"},\"ticker\":{\"id\":\"2429\"}},\"id\":\"2428\",\"type\":\"LinearAxis\"},{\"attributes\":{},\"id\":\"2528\",\"type\":\"Selection\"},{\"attributes\":{},\"id\":\"2416\",\"type\":\"DataRange1d\"},{\"attributes\":{\"data_source\":{\"id\":\"2446\"},\"glyph\":{\"id\":\"2447\"},\"hover_glyph\":null,\"muted_glyph\":null,\"nonselection_glyph\":{\"id\":\"2448\"},\"selection_glyph\":null,\"view\":{\"id\":\"2450\"}},\"id\":\"2449\",\"type\":\"GlyphRenderer\"},{\"attributes\":{},\"id\":\"2526\",\"type\":\"Selection\"},{\"attributes\":{\"source\":{\"id\":\"2446\"}},\"id\":\"2450\",\"type\":\"CDSView\"},{\"attributes\":{\"bottom_units\":\"screen\",\"fill_alpha\":0.5,\"fill_color\":\"lightgrey\",\"left_units\":\"screen\",\"level\":\"overlay\",\"line_alpha\":1.0,\"line_color\":\"black\",\"line_dash\":[4,4],\"line_width\":2,\"right_units\":\"screen\",\"top_units\":\"screen\"},\"id\":\"2438\",\"type\":\"BoxAnnotation\"},{\"attributes\":{},\"id\":\"2352\",\"type\":\"DataRange1d\"},{\"attributes\":{},\"id\":\"2518\",\"type\":\"Selection\"},{\"attributes\":{},\"id\":\"2532\",\"type\":\"Selection\"},{\"attributes\":{},\"id\":\"2400\",\"type\":\"WheelZoomTool\"},{\"attributes\":{\"active_drag\":\"auto\",\"active_inspect\":\"auto\",\"active_multi\":null,\"active_scroll\":\"auto\",\"active_tap\":\"auto\",\"tools\":[{\"id\":\"2432\"},{\"id\":\"2433\"},{\"id\":\"2434\"},{\"id\":\"2435\"},{\"id\":\"2436\"},{\"id\":\"2437\"}]},\"id\":\"2439\",\"type\":\"Toolbar\"},{\"attributes\":{},\"id\":\"2508\",\"type\":\"BasicTickFormatter\"},{\"attributes\":{\"line_color\":\"#e97d86\",\"line_width\":3,\"x\":{\"field\":\"x\"},\"y\":{\"field\":\"y\"}},\"id\":\"2452\",\"type\":\"Line\"},{\"attributes\":{},\"id\":\"2533\",\"type\":\"UnionRenderers\"},{\"attributes\":{},\"id\":\"2371\",\"type\":\"HelpTool\"},{\"attributes\":{},\"id\":\"2527\",\"type\":\"UnionRenderers\"},{\"attributes\":{},\"id\":\"2350\",\"type\":\"DataRange1d\"},{\"attributes\":{},\"id\":\"2432\",\"type\":\"PanTool\"},{\"attributes\":{\"overlay\":{\"id\":\"2438\"}},\"id\":\"2434\",\"type\":\"BoxZoomTool\"},{\"attributes\":{\"axis\":{\"id\":\"2395\"},\"dimension\":1,\"ticker\":null},\"id\":\"2398\",\"type\":\"Grid\"},{\"attributes\":{},\"id\":\"2435\",\"type\":\"SaveTool\"},{\"attributes\":{},\"id\":\"2436\",\"type\":\"ResetTool\"},{\"attributes\":{\"data_source\":{\"id\":\"2451\"},\"glyph\":{\"id\":\"2452\"},\"hover_glyph\":null,\"muted_glyph\":null,\"nonselection_glyph\":{\"id\":\"2453\"},\"selection_glyph\":null,\"view\":{\"id\":\"2455\"}},\"id\":\"2454\",\"type\":\"GlyphRenderer\"},{\"attributes\":{\"axis\":{\"id\":\"2428\"},\"dimension\":1,\"ticker\":null},\"id\":\"2431\",\"type\":\"Grid\"},{\"attributes\":{\"end\":5.0,\"format\":\"0[.]00\",\"margin\":[5,10,5,10],\"start\":0.0,\"step\":0.01,\"title\":\"\\u03b3\",\"value\":1.0,\"value_throttled\":1.0},\"id\":\"2497\",\"type\":\"Slider\"},{\"attributes\":{\"source\":{\"id\":\"2451\"}},\"id\":\"2455\",\"type\":\"CDSView\"},{\"attributes\":{\"align\":\"center\",\"text\":\"architecture (c)\",\"text_font\":\"Helvetica\",\"text_font_size\":{\"value\":\"16px\"}},\"id\":\"2414\",\"type\":\"Title\"},{\"attributes\":{\"children\":[{\"id\":\"2492\"},{\"id\":\"2499\"}],\"margin\":[0,0,0,0],\"name\":\"Column00034\"},\"id\":\"2491\",\"type\":\"Column\"},{\"attributes\":{\"line_alpha\":0.1,\"line_color\":\"#2ea58e\",\"line_width\":3,\"x\":{\"field\":\"x\"},\"y\":{\"field\":\"y\"}},\"id\":\"2448\",\"type\":\"Line\"},{\"attributes\":{},\"id\":\"2437\",\"type\":\"HelpTool\"},{\"attributes\":{\"axis\":{\"id\":\"2362\"},\"dimension\":1,\"ticker\":null},\"id\":\"2365\",\"type\":\"Grid\"},{\"attributes\":{\"line_color\":\"#2ea58e\",\"line_width\":3,\"x\":{\"field\":\"x\"},\"y\":{\"field\":\"y\"}},\"id\":\"2457\",\"type\":\"Line\"},{\"attributes\":{},\"id\":\"2404\",\"type\":\"HelpTool\"},{\"attributes\":{\"label\":{\"value\":\"B\"},\"renderers\":[{\"id\":\"2484\"}]},\"id\":\"2488\",\"type\":\"LegendItem\"},{\"attributes\":{\"axis_label\":\"dimensionless [ ]\",\"axis_label_text_font\":\"Helvetica\",\"formatter\":{\"id\":\"2508\"},\"ticker\":{\"id\":\"2396\"}},\"id\":\"2395\",\"type\":\"LinearAxis\"},{\"attributes\":{\"data_source\":{\"id\":\"2461\"},\"glyph\":{\"id\":\"2462\"},\"hover_glyph\":null,\"muted_glyph\":null,\"nonselection_glyph\":{\"id\":\"2463\"},\"selection_glyph\":null,\"view\":{\"id\":\"2465\"}},\"id\":\"2464\",\"type\":\"GlyphRenderer\"},{\"attributes\":{},\"id\":\"2359\",\"type\":\"BasicTicker\"},{\"attributes\":{},\"id\":\"2387\",\"type\":\"LinearScale\"},{\"attributes\":{\"overlay\":{\"id\":\"2372\"}},\"id\":\"2368\",\"type\":\"BoxZoomTool\"},{\"attributes\":{\"line_alpha\":0.1,\"line_color\":\"#e97d86\",\"line_width\":3,\"x\":{\"field\":\"x\"},\"y\":{\"field\":\"y\"}},\"id\":\"2453\",\"type\":\"Line\"},{\"attributes\":{\"background_fill_alpha\":0,\"below\":[{\"id\":\"2424\"}],\"center\":[{\"id\":\"2427\"},{\"id\":\"2431\"}],\"left\":[{\"id\":\"2428\"}],\"plot_height\":300,\"plot_width\":450,\"renderers\":[{\"id\":\"2469\"},{\"id\":\"2474\"},{\"id\":\"2479\"},{\"id\":\"2484\"}],\"right\":[{\"id\":\"2486\"}],\"title\":{\"id\":\"2414\"},\"toolbar\":{\"id\":\"2439\"},\"x_range\":{\"id\":\"2416\"},\"x_scale\":{\"id\":\"2420\"},\"y_range\":{\"id\":\"2418\"},\"y_scale\":{\"id\":\"2422\"}},\"id\":\"2413\",\"subtype\":\"Figure\",\"type\":\"Plot\"},{\"attributes\":{\"line_color\":\"#2ea58e\",\"line_width\":3,\"x\":{\"field\":\"x\"},\"y\":{\"field\":\"y\"}},\"id\":\"2467\",\"type\":\"Line\"},{\"attributes\":{},\"id\":\"2385\",\"type\":\"DataRange1d\"},{\"attributes\":{\"data\":{\"x\":{\"__ndarray__\":\"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\",\"dtype\":\"float64\",\"order\":\"little\",\"shape\":[500]},\"y\":{\"__ndarray__\":\"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\",\"dtype\":\"float64\",\"order\":\"little\",\"shape\":[500]}},\"selected\":{\"id\":\"2528\"},\"selection_policy\":{\"id\":\"2529\"}},\"id\":\"2471\",\"type\":\"ColumnDataSource\"},{\"attributes\":{},\"id\":\"2530\",\"type\":\"Selection\"},{\"attributes\":{},\"id\":\"2402\",\"type\":\"SaveTool\"},{\"attributes\":{\"source\":{\"id\":\"2461\"}},\"id\":\"2465\",\"type\":\"CDSView\"},{\"attributes\":{},\"id\":\"2403\",\"type\":\"ResetTool\"},{\"attributes\":{\"end\":5.0,\"format\":\"0[.]00\",\"margin\":[5,10,5,10],\"start\":0.0,\"step\":0.01,\"title\":\"\\u03b2_\\u0391\",\"value\":1.0,\"value_throttled\":1.0},\"id\":\"2494\",\"type\":\"Slider\"},{\"attributes\":{},\"id\":\"2383\",\"type\":\"DataRange1d\"},{\"attributes\":{\"line_alpha\":0.1,\"line_color\":\"#e97d86\",\"line_width\":3,\"x\":{\"field\":\"x\"},\"y\":{\"field\":\"y\"}},\"id\":\"2473\",\"type\":\"Line\"},{\"attributes\":{\"data\":{},\"selected\":{\"id\":\"2530\"},\"selection_policy\":{\"id\":\"2531\"}},\"id\":\"2476\",\"type\":\"ColumnDataSource\"},{\"attributes\":{},\"id\":\"2523\",\"type\":\"Selection\"},{\"attributes\":{\"children\":[{\"id\":\"2347\"},{\"id\":\"2380\"},{\"id\":\"2413\"}]},\"id\":\"2489\",\"type\":\"Row\"},{\"attributes\":{},\"id\":\"2422\",\"type\":\"LinearScale\"},{\"attributes\":{\"axis_label\":\"dimensionless time\",\"axis_label_text_font\":\"Helvetica\",\"formatter\":{\"id\":\"2514\"},\"ticker\":{\"id\":\"2425\"}},\"id\":\"2424\",\"type\":\"LinearAxis\"},{\"attributes\":{},\"id\":\"2367\",\"type\":\"WheelZoomTool\"},{\"attributes\":{},\"id\":\"2519\",\"type\":\"UnionRenderers\"},{\"attributes\":{\"source\":{\"id\":\"2456\"}},\"id\":\"2460\",\"type\":\"CDSView\"},{\"attributes\":{\"axis\":{\"id\":\"2424\"},\"ticker\":null},\"id\":\"2427\",\"type\":\"Grid\"},{\"attributes\":{\"children\":[{\"id\":\"2494\"},{\"id\":\"2495\"}],\"margin\":[0,0,0,0],\"name\":\"Column00024\"},\"id\":\"2493\",\"type\":\"Column\"},{\"attributes\":{},\"id\":\"2433\",\"type\":\"WheelZoomTool\"},{\"attributes\":{},\"id\":\"2420\",\"type\":\"LinearScale\"},{\"attributes\":{\"end\":5.0,\"format\":\"0[.]00\",\"margin\":[5,10,5,10],\"start\":0.0,\"step\":0.01,\"title\":\"\\u03b2_B\",\"value\":1.0,\"value_throttled\":1.0},\"id\":\"2495\",\"type\":\"Slider\"},{\"attributes\":{\"line_alpha\":0.1,\"line_color\":\"#2ea58e\",\"line_width\":3,\"x\":{\"field\":\"x\"},\"y\":{\"field\":\"y\"}},\"id\":\"2458\",\"type\":\"Line\"},{\"attributes\":{\"line_alpha\":0.1,\"line_color\":\"#e97d86\",\"line_width\":3},\"id\":\"2483\",\"type\":\"Line\"},{\"attributes\":{\"bottom_units\":\"screen\",\"fill_alpha\":0.5,\"fill_color\":\"lightgrey\",\"left_units\":\"screen\",\"level\":\"overlay\",\"line_alpha\":1.0,\"line_color\":\"black\",\"line_dash\":[4,4],\"line_width\":2,\"right_units\":\"screen\",\"top_units\":\"screen\"},\"id\":\"2372\",\"type\":\"BoxAnnotation\"},{\"attributes\":{\"children\":[{\"id\":\"2489\"}]},\"id\":\"2490\",\"type\":\"Column\"},{\"attributes\":{\"active_drag\":\"auto\",\"active_inspect\":\"auto\",\"active_multi\":null,\"active_scroll\":\"auto\",\"active_tap\":\"auto\",\"tools\":[{\"id\":\"2399\"},{\"id\":\"2400\"},{\"id\":\"2401\"},{\"id\":\"2402\"},{\"id\":\"2403\"},{\"id\":\"2404\"}]},\"id\":\"2406\",\"type\":\"Toolbar\"},{\"attributes\":{\"line_alpha\":0.1,\"line_color\":\"#e97d86\",\"line_width\":3,\"x\":{\"field\":\"x\"},\"y\":{\"field\":\"y\"}},\"id\":\"2463\",\"type\":\"Line\"},{\"attributes\":{\"axis_label\":\"dimensionless [ ]\",\"axis_label_text_font\":\"Helvetica\",\"formatter\":{\"id\":\"2504\"},\"ticker\":{\"id\":\"2363\"}},\"id\":\"2362\",\"type\":\"LinearAxis\"},{\"attributes\":{\"items\":[{\"id\":\"2487\"},{\"id\":\"2488\"}],\"location\":\"center\"},\"id\":\"2486\",\"type\":\"Legend\"},{\"attributes\":{\"line_alpha\":0.1,\"line_color\":\"#2ea58e\",\"line_width\":3,\"x\":{\"field\":\"x\"},\"y\":{\"field\":\"y\"}},\"id\":\"2468\",\"type\":\"Line\"},{\"attributes\":{\"background_fill_alpha\":0,\"below\":[{\"id\":\"2391\"}],\"center\":[{\"id\":\"2394\"},{\"id\":\"2398\"}],\"left\":[{\"id\":\"2395\"}],\"plot_height\":300,\"plot_width\":400,\"renderers\":[{\"id\":\"2459\"},{\"id\":\"2464\"}],\"title\":{\"id\":\"2381\"},\"toolbar\":{\"id\":\"2406\"},\"x_range\":{\"id\":\"2383\"},\"x_scale\":{\"id\":\"2387\"},\"y_range\":{\"id\":\"2385\"},\"y_scale\":{\"id\":\"2389\"}},\"id\":\"2380\",\"subtype\":\"Figure\",\"type\":\"Plot\"},{\"attributes\":{\"data_source\":{\"id\":\"2456\"},\"glyph\":{\"id\":\"2457\"},\"hover_glyph\":null,\"muted_glyph\":null,\"nonselection_glyph\":{\"id\":\"2458\"},\"selection_glyph\":null,\"view\":{\"id\":\"2460\"}},\"id\":\"2459\",\"type\":\"GlyphRenderer\"},{\"attributes\":{},\"id\":\"2429\",\"type\":\"BasicTicker\"},{\"attributes\":{},\"id\":\"2425\",\"type\":\"BasicTicker\"},{\"attributes\":{},\"id\":\"2512\",\"type\":\"BasicTickFormatter\"},{\"attributes\":{\"reload\":false},\"id\":\"2773\",\"type\":\"panel.models.location.Location\"},{\"attributes\":{},\"id\":\"2506\",\"type\":\"BasicTickFormatter\"},{\"attributes\":{\"background_fill_alpha\":0,\"below\":[{\"id\":\"2358\"}],\"center\":[{\"id\":\"2361\"},{\"id\":\"2365\"}],\"left\":[{\"id\":\"2362\"}],\"plot_height\":300,\"plot_width\":400,\"renderers\":[{\"id\":\"2449\"},{\"id\":\"2454\"}],\"title\":{\"id\":\"2348\"},\"toolbar\":{\"id\":\"2373\"},\"x_range\":{\"id\":\"2350\"},\"x_scale\":{\"id\":\"2354\"},\"y_range\":{\"id\":\"2352\"},\"y_scale\":{\"id\":\"2356\"}},\"id\":\"2347\",\"subtype\":\"Figure\",\"type\":\"Plot\"},{\"attributes\":{},\"id\":\"2504\",\"type\":\"BasicTickFormatter\"},{\"attributes\":{\"line_color\":\"#2ea58e\",\"line_width\":3},\"id\":\"2477\",\"type\":\"Line\"},{\"attributes\":{\"client_comm_id\":\"1f3b45f6a5d449f586d01afdb367a7ce\",\"comm_id\":\"f49d7376b72c4b92acd11009cbc7358e\",\"plot_id\":\"2491\"},\"id\":\"2670\",\"type\":\"panel.models.comm_manager.CommManager\"}],\"root_ids\":[\"2491\",\"2670\",\"2773\"]},\"title\":\"Bokeh Application\",\"version\":\"2.2.2\"}};\n",
       "    var render_items = [{\"docid\":\"cd874dfb-ef75-4582-a543-a9aed220ef0b\",\"root_ids\":[\"2491\"],\"roots\":{\"2491\":\"d1b25e0e-4f1d-410f-a2ef-21b17264fc5c\"}}];\n",
       "    root.Bokeh.embed.embed_items_notebook(docs_json, render_items);\n",
       "  }\n",
       "  if (root.Bokeh !== undefined && root.Bokeh.Panel !== undefined) {\n",
       "    embed_document(root);\n",
       "  } else {\n",
       "    var attempts = 0;\n",
       "    var timer = setInterval(function(root) {\n",
       "      if (root.Bokeh !== undefined && root.Bokeh.Panel !== undefined) {\n",
       "        clearInterval(timer);\n",
       "        embed_document(root);\n",
       "      } else if (document.readyState == \"complete\") {\n",
       "        attempts++;\n",
       "        if (attempts > 100) {\n",
       "          clearInterval(timer);\n",
       "          console.log(\"Bokeh: ERROR: Unable to run BokehJS code because BokehJS library is missing\");\n",
       "        }\n",
       "      }\n",
       "    }, 10, root)\n",
       "  }\n",
       "})(window);</script>"
      ],
      "text/plain": [
       "Column\n",
       "    [0] Row(align='center')\n",
       "        [0] Column\n",
       "            [0] FloatSlider(end=5.0, name='β_Α', step=0.01, value=1.0, value_throttled=1.0)\n",
       "            [1] FloatSlider(end=5.0, name='β_B', step=0.01, value=1.0, value_throttled=1.0)\n",
       "        [1] Column\n",
       "            [0] FloatSlider(end=5.0, name='γ', step=0.01, value=1.0, value_throttled=1.0)\n",
       "            [1] FloatSlider(end=10.0, name='n', value=5.0, value_throttled=5.0)\n",
       "    [1] ParamFunction(function)"
      ]
     },
     "execution_count": 21,
     "metadata": {
      "application/vnd.holoviews_exec.v0+json": {
       "id": "2491"
      }
     },
     "output_type": "execute_result"
    }
   ],
   "source": [
    "lay_widgets = pn.Row(pn.Column(β_A_slider, β_B_slider), \n",
    "                     pn.Column(γ_slider, n_slider), align=\"center\")\n",
    "pn.Column(lay_widgets, conc_plotter)"
   ]
  },
  {
   "cell_type": "code",
   "execution_count": 22,
   "metadata": {},
   "outputs": [],
   "source": [
    "# # ************************************ PANEL ************************************\n",
    "\n",
    "# betaA = 1\n",
    "# betaB = 1\n",
    "# n = 10\n",
    "# gamma = 1\n",
    "\n",
    "# betaA_slider = pn.widgets.FloatSlider(name=\"βA\",  start=0.0, end=5.0, step=0.1, value=1.0)\n",
    "# betaB_slider = pn.widgets.FloatSlider(name=\"βB\",  start=0.0, end=5.0, step=0.1, value=1.0)\n",
    "# gamma_slider = pn.widgets.FloatSlider(name=\"γ\",   start=0.0, end=5.0, step=0.1, value=1.0)\n",
    "# n_slider     = pn.widgets.FloatSlider(name=\"n\",   start=1.0, end=15., step=0.1, value=10.0)\n",
    "# max_slider   = pn.widgets.FloatSlider(name=\"max\", start=1.0, end=5.0, step=1.0, value=2.0, width=350)\n",
    "\n",
    "# @pn.depends(betaA_slider.param.value, betaB_slider.param.value, \n",
    "#             gamma_slider.param.value, n_slider.param.value, \n",
    "#             max_slider.param.value)\n",
    "# def nullcline_plotter(betaA, betaB, gamma, n, max_xy):\n",
    "#     x_B = np.linspace(0, max_xy, 400)   \n",
    "#     y_A = np.linspace(0, max_xy, 400)\n",
    "    \n",
    "#     build_dict = {\n",
    "#     'a':[ betaA * x_B**n / (1 + x_B ** n), \n",
    "#           betaB * y_A**n / (1 + y_A ** n) / gamma ],\n",
    "#     'b':[ betaA / (1 + x_B ** n), \n",
    "#           betaB / (1 + y_A ** n) / gamma ],\n",
    "#     'c':[ betaA * x_B**n / (1 + x_B ** n), \n",
    "#           betaB / (1 + y_A ** n) / gamma ], \n",
    "#              }\n",
    "\n",
    "#     p = bokeh.plotting.figure(height=350, width=350, title=\"architecture (a)\", \n",
    "#             x_axis_label=\"A\", y_axis_label=\"B\")\n",
    "#     q = bokeh.plotting.figure(height=350, width=350, title=\"architecture (b)\", \n",
    "#             x_axis_label=\"A\", y_axis_label=\"B\")\n",
    "#     r = bokeh.plotting.figure(height=350, width=430, title=\"architecture (c)\", \n",
    "#             x_axis_label=\"A\", y_axis_label=\"B\")\n",
    "    \n",
    "#     for build, plot in zip(['a', 'b', 'c'], [p, q, r]):\n",
    "#         x_A, y_B = build_dict[build]\n",
    "#         plot.line(x=x_A, y=y_A, color=\"#e97d86\", line_width=3)\n",
    "#         plot.line(x=x_B, y=y_B, color=\"#2ea58e\", line_width=3)\n",
    "        \n",
    "#     legend = bokeh.models.Legend(\n",
    "#                 items=[ (\"A\", [r.line(line_color=\"#e97d86\", line_width=3)]), \n",
    "#                         (\"B\", [r.line(line_color=\"#2ea58e\", line_width=3)])  ], \n",
    "#                 location=\"center\"\n",
    "#             )\n",
    "#     r.add_layout(legend, 'right')\n",
    "    \n",
    "#     for plot in [p, q, r]:\n",
    "#         plot.toolbar.autohide=True\n",
    "        \n",
    "#     return bokeh.layouts.layout([[style(p), style(q), style(r)]])\n",
    "\n",
    "# lay_widgets = pn.Row(pn.Column(betaA_slider, betaB_slider), \n",
    "#                      pn.Column(gamma_slider, n_slider), align=\"center\")\n",
    "# lay_time = pn.Row(max_slider, align=\"center\")\n",
    "# pn.Column(nullcline_plotter, lay_widgets,lay_time)"
   ]
  },
  {
   "cell_type": "code",
   "execution_count": null,
   "metadata": {},
   "outputs": [],
   "source": []
  },
  {
   "cell_type": "code",
   "execution_count": null,
   "metadata": {},
   "outputs": [],
   "source": []
  },
  {
   "cell_type": "code",
   "execution_count": null,
   "metadata": {},
   "outputs": [],
   "source": []
  },
  {
   "cell_type": "code",
   "execution_count": null,
   "metadata": {},
   "outputs": [],
   "source": []
  },
  {
   "cell_type": "code",
   "execution_count": null,
   "metadata": {},
   "outputs": [],
   "source": []
  },
  {
   "cell_type": "code",
   "execution_count": null,
   "metadata": {},
   "outputs": [],
   "source": []
  },
  {
   "cell_type": "markdown",
   "metadata": {},
   "source": [
    "# <center>Homework 2.1: Designing Toggles</center>"
   ]
  },
  {
   "cell_type": "markdown",
   "metadata": {},
   "source": [
    "<img src=\"150.2.1a.jpg\" width=\"1500px\">"
   ]
  },
  {
   "cell_type": "markdown",
   "metadata": {},
   "source": [
    "# nullclines"
   ]
  },
  {
   "cell_type": "code",
   "execution_count": 2,
   "metadata": {},
   "outputs": [],
   "source": [
    "# ************************** CURDOC DASHBOARD **************************\n",
    "\n",
    "# .... initializing parameters .... \n",
    "betaA = 1.8\n",
    "betaB = 1.8\n",
    "n = 10\n",
    "gamma = 1\n",
    "max_xy = 5\n",
    "\n",
    "x_A = np.linspace(0, max_xy, 400)   \n",
    "x_B = np.linspace(0, max_xy, 400)\n",
    "\n",
    "build_dict = {\n",
    "'a':[ betaA * x_B**n / (1 + x_B ** n), \n",
    "      betaB * x_A**n / (1 + x_A ** n) / gamma ],\n",
    "'b':[ betaA / (1 + x_B ** n), \n",
    "      betaB / (1 + x_A ** n) / gamma ],\n",
    "'c':[ betaA * x_B**n / (1 + x_B ** n), \n",
    "      betaB / (1 + x_A ** n) / gamma ], \n",
    "         }\n",
    "\n",
    "# .... initializing plot ....\n",
    "p = bokeh.plotting.figure(height=350, width=350, title=\"architecture (a)\", \n",
    "        x_axis_label=\"A\", y_axis_label=\"B\")\n",
    "q = bokeh.plotting.figure(height=350, width=350, title=\"architecture (b)\", \n",
    "        x_axis_label=\"A\", y_axis_label=\"B\")\n",
    "r = bokeh.plotting.figure(height=350, width=440, title=\"architecture (c)\", \n",
    "        x_axis_label=\"A\", y_axis_label=\"B\")\n",
    "\n",
    "p_cds = bokeh.models.ColumnDataSource(dict(y_A=build_dict['a'][0], x_B=x_B, \n",
    "                                           y_B=build_dict['a'][1], x_A=x_A))\n",
    "q_cds = bokeh.models.ColumnDataSource(dict(y_A=build_dict['b'][0], x_B=x_B,\n",
    "                                           y_B=build_dict['b'][1], x_A=x_A))\n",
    "r_cds = bokeh.models.ColumnDataSource(dict(y_A=build_dict['c'][0], x_B=x_B, \n",
    "                                           y_B=build_dict['c'][1], x_A=x_A))\n",
    "\n",
    "for plot, source in zip([p, q, r], [p_cds, q_cds, r_cds]):\n",
    "    plot.line(source=source, x=\"x_A\", y=\"y_B\", color=\"#e97d86\", line_width=3)\n",
    "    plot.line(source=source, x=\"y_A\", y=\"x_B\", color=\"#2ea58e\", line_width=3)\n",
    "\n",
    "legend = bokeh.models.Legend(\n",
    "            items=[ (\"A\", [r.line(line_color=\"#e97d86\", line_width=3)]), \n",
    "                    (\"B\", [r.line(line_color=\"#2ea58e\", line_width=3)])  ], \n",
    "            location=\"center\"\n",
    "        )\n",
    "r.add_layout(legend, 'right')\n",
    "\n",
    "\n",
    "# .... building widgets ....\n",
    "betaA_slider = bokeh.models.Slider(title=\"βA\",  start=0.0, end=5.0, step=0.1, value=1.8, width=250)\n",
    "betaB_slider = bokeh.models.Slider(title=\"βB\",  start=0.0, end=5.0, step=0.1, value=1.8, width=250)\n",
    "gamma_slider = bokeh.models.Slider(title=\"γ\",   start=0.1, end=5.0, step=0.1, value=1.0, width=250)\n",
    "n_slider     = bokeh.models.Slider(title=\"n\",   start=1.0, end=15., step=0.1, value=10., width=250)\n",
    "max_slider   = bokeh.models.Slider(title=\"max\", start=2.0, end=10., step=0.1, value=5.0, width=250)\n",
    "\n",
    "def callback(attr, old, new):\n",
    "    x_A = np.linspace(0, max_slider.value, 400)   \n",
    "    x_B = np.linspace(0, max_slider.value, 400)\n",
    "    p_cds.data[\"y_A\"] = betaA_slider.value * x_B**n_slider.value / (1 + x_B ** n_slider.value)\n",
    "    p_cds.data[\"y_B\"] = betaB_slider.value * x_A**n_slider.value / (1 + x_A ** n_slider.value) / gamma_slider.value \n",
    "    \n",
    "    q_cds.data[\"y_A\"] = betaA_slider.value / (1 + x_B ** n_slider.value) \n",
    "    q_cds.data[\"y_B\"] = betaB_slider.value / (1 + x_A ** n_slider.value) / gamma_slider.value \n",
    "    \n",
    "    r_cds.data[\"y_A\"] = betaA_slider.value * x_B**n_slider.value / (1 + x_B ** n_slider.value)\n",
    "    r_cds.data[\"y_B\"] = betaB_slider.value / (1 + x_A ** n_slider.value) / gamma_slider.value\n",
    "\n",
    "# .... linking widgets ....\n",
    "betaA_slider.on_change(\"value\", callback)\n",
    "betaB_slider.on_change(\"value\", callback)\n",
    "gamma_slider.on_change(\"value\", callback)\n",
    "n_slider.on_change(\"value\", callback)\n",
    "max_slider.on_change(\"value\", callback)\n",
    "\n",
    "# .... making layouts ....\n",
    "lay_widgets = bokeh.layouts.Row(\n",
    "                bokeh.layouts.Column(betaA_slider, betaB_slider), \n",
    "                bokeh.layouts.Column(gamma_slider, n_slider), \n",
    "            align=\"center\")\n",
    "lay_time = bokeh.layouts.Row(max_slider, align=\"center\")\n",
    "lay_plots = bokeh.layouts.Row(style(p), style(q), style(r))\n",
    "layout = bokeh.layouts.Column(lay_plots, lay_widgets, lay_time)"
   ]
  },
  {
   "cell_type": "code",
   "execution_count": 22,
   "metadata": {},
   "outputs": [
    {
     "data": {
      "application/vnd.bokehjs_exec.v0+json": "",
      "text/html": [
       "\n",
       "<script id=\"39935\">\n",
       "  var xhr = new XMLHttpRequest()\n",
       "  xhr.responseType = 'blob';\n",
       "  xhr.open('GET', \"http://localhost:49853/autoload.js?bokeh-autoload-element=39935&bokeh-absolute-url=http://localhost:49853&resources=none\", true);\n",
       "  \n",
       "  xhr.onload = function (event) {\n",
       "    var script = document.createElement('script'),\n",
       "    src = URL.createObjectURL(event.target.response);\n",
       "    script.src = src;\n",
       "    document.body.appendChild(script);\n",
       "  };\n",
       "xhr.send();\n",
       "</script>"
      ]
     },
     "metadata": {
      "application/vnd.bokehjs_exec.v0+json": {
       "server_id": "03bdceb1a2d149a883bbe412a006abbc"
      }
     },
     "output_type": "display_data"
    }
   ],
   "source": [
    "def app(doc):\n",
    "    doc.add_root(layout)\n",
    "    \n",
    "bokeh.io.show(app, notebook_url='localhost:8888')    "
   ]
  },
  {
   "cell_type": "markdown",
   "metadata": {},
   "source": [
    "# insert discussion .... "
   ]
  },
  {
   "cell_type": "markdown",
   "metadata": {},
   "source": [
    "# integrated trajectories ... just for fun "
   ]
  },
  {
   "cell_type": "code",
   "execution_count": 39,
   "metadata": {},
   "outputs": [
    {
     "data": {
      "application/vnd.bokehjs_exec.v0+json": "",
      "text/html": [
       "\n",
       "<script id=\"46875\">\n",
       "  var xhr = new XMLHttpRequest()\n",
       "  xhr.responseType = 'blob';\n",
       "  xhr.open('GET', \"http://localhost:49985/autoload.js?bokeh-autoload-element=46875&bokeh-absolute-url=http://localhost:49985&resources=none\", true);\n",
       "  \n",
       "  xhr.onload = function (event) {\n",
       "    var script = document.createElement('script'),\n",
       "    src = URL.createObjectURL(event.target.response);\n",
       "    script.src = src;\n",
       "    document.body.appendChild(script);\n",
       "  };\n",
       "xhr.send();\n",
       "</script>"
      ]
     },
     "metadata": {
      "application/vnd.bokehjs_exec.v0+json": {
       "server_id": "08cc3c55cc544b328263a3d1c56ee505"
      }
     },
     "output_type": "display_data"
    }
   ],
   "source": [
    "def derivs(AB, t, β_A, β_B, γ, n, build):\n",
    "    A, B = AB\n",
    "    if build in [\"a\", \"A\", \"c\", \"C\"]: A_deriv = β_A * B**n/(1+B**n) - γ*A\n",
    "    else: A_deriv = β_A/(1+B**n) - γ*A\n",
    "    if build in [\"b\", \"B\", \"c\", \"C\"]: B_deriv = β_B/(1+A**n) - γ*B\n",
    "    else: B_deriv = β_B * A**n/(1+A**n) - γ*B\n",
    "    return np.array([A_deriv, B_deriv])\n",
    "\n",
    "# .... initializing parameters .... \n",
    "time = np.linspace(0, 30, 500)\n",
    "\n",
    "Ao, Bo = 1.0, 0.0\n",
    "ABo = np.array([Ao, Bo])\n",
    "\n",
    "β_A, β_B, γ, n = 1, 1, 1, 5\n",
    "\n",
    "# .... initializing plots .... \n",
    "s = bokeh.plotting.figure(title=\"architecture (a)\", height=350, width=400, \n",
    "        x_axis_label=\"dimensionless time\", y_axis_label=\"dimensionless [ ]\")\n",
    "t = bokeh.plotting.figure(title=\"architecture (b)\", height=350, width=400, \n",
    "        x_axis_label=\"dimensionless time\", y_axis_label=\"dimensionless [ ]\")\n",
    "u = bokeh.plotting.figure(title=\"architecture (c)\", height=350, width=450, \n",
    "        x_axis_label=\"dimensionless time\", y_axis_label=\"dimensionless [ ]\")\n",
    "\n",
    "AB_s = scipy.integrate.odeint(derivs, ABo, time, args=(β_A, β_B, γ, n, 'a'))\n",
    "AB_t = scipy.integrate.odeint(derivs, ABo, time, args=(β_A, β_B, γ, n, 'b'))\n",
    "AB_u = scipy.integrate.odeint(derivs, ABo, time, args=(β_A, β_B, γ, n, 'c'))\n",
    "\n",
    "A_s, B_s = AB_s.T\n",
    "A_t, B_t = AB_t.T\n",
    "A_u, B_u = AB_u.T\n",
    "\n",
    "A_s /= A_s.max()\n",
    "A_t /= A_t.max()\n",
    "A_u /= A_u.max()\n",
    "\n",
    "B_s /= B_s.max()\n",
    "B_t /= B_t.max()\n",
    "B_u /= B_u.max()\n",
    "\n",
    "s_cds = bokeh.models.ColumnDataSource(dict(t=time, A=A_s, B=B_s))\n",
    "t_cds = bokeh.models.ColumnDataSource(dict(t=time, A=A_t, B=B_t))\n",
    "u_cds = bokeh.models.ColumnDataSource(dict(t=time, A=A_u, B=B_u))\n",
    "\n",
    "for plot, source in zip([s, t, u], [s_cds, t_cds, u_cds]):\n",
    "    plot.line(source=source, x='t', y='A', line_color=\"#e97d86\", line_width=3, )\n",
    "    plot.line(source=source, x='t', y='B', line_color=\"#2ea58e\", line_width=3, )\n",
    "    \n",
    "legend = bokeh.models.Legend(\n",
    "            items=[ (\"A\", [u.line(line_color=\"#e97d86\", line_width=3)]), \n",
    "                    (\"B\", [u.line(line_color=\"#2ea58e\", line_width=3)])\n",
    "                  ], location=\"center\")\n",
    "u.add_layout(legend, 'right')\n",
    "\n",
    "\n",
    "# .... building widgets ....\n",
    "β_A_slider = bokeh.models.Slider(title=\"β_Α\", start=0.0, end=5.0, step=0.01, value=1.0)\n",
    "β_B_slider = bokeh.models.Slider(title=\"β_B\", start=0.0, end=5.0, step=0.01, value=1.0)\n",
    "γ_slider = bokeh.models.Slider(title=\"γ\", start=0.1, end=3.0, step=0.01, value=1.0)\n",
    "N_slider = bokeh.models.Slider(title=\"n\", start=0.0, end=10.0, step=0.1, value=5.0)\n",
    "A0_select = bokeh.models.Select(title=\"Ao\", options=[\"HIGH\", \"LOW\"], value=\"HIGH\")\n",
    "B0_select = bokeh.models.Select(title=\"Bo\", options=[\"HIGH\", \"LOW\"], value=\"LOW\")\n",
    "\n",
    "\n",
    "# .... defining callback ....\n",
    "def callback_trajectory(attr, old, new):\n",
    "    Ao_type, Bo_type = A0_select.value, B0_select.value\n",
    "    Ao, Bo = 0.0, 0.0\n",
    "    if Ao_type == \"HIGH\": Ao = 1.0\n",
    "    if Bo_type == \"HIGH\": Bo = 1.0\n",
    "    ABo = np.array([Ao, Bo])\n",
    "    β_A, β_B, γ, n = β_A_slider.value, β_B_slider.value, γ_slider.value, N_slider.value\n",
    "    \n",
    "    AB_s = scipy.integrate.odeint(derivs, ABo, time, args=(β_A, β_B, γ, n, 'a'))\n",
    "    AB_t = scipy.integrate.odeint(derivs, ABo, time, args=(β_A, β_B, γ, n, 'b'))\n",
    "    AB_u = scipy.integrate.odeint(derivs, ABo, time, args=(β_A, β_B, γ, n, 'c'))\n",
    "\n",
    "    A_s, B_s = AB_s.T\n",
    "    A_t, B_t = AB_t.T\n",
    "    A_u, B_u = AB_u.T\n",
    "\n",
    "    A_s /= A_s.max()\n",
    "    A_t /= A_t.max()\n",
    "    A_u /= A_u.max()\n",
    "\n",
    "    B_s /= B_s.max()\n",
    "    B_t /= B_t.max()\n",
    "    B_u /= B_u.max()\n",
    "\n",
    "    s_cds.data[\"A\"] = A_s\n",
    "    s_cds.data[\"B\"] = B_s  \n",
    "    t_cds.data[\"A\"] = A_t\n",
    "    t_cds.data[\"B\"] = B_t    \n",
    "    u_cds.data[\"A\"] = A_u\n",
    "    u_cds.data[\"B\"] = B_u    \n",
    "    \n",
    "    \n",
    "# .... linking widgets ....\n",
    "β_A_slider.on_change(\"value\", callback_trajectory)\n",
    "β_B_slider.on_change(\"value\", callback_trajectory)\n",
    "γ_slider.on_change(\"value\", callback_trajectory)\n",
    "N_slider.on_change(\"value\", callback_trajectory)\n",
    "A0_select.on_change(\"value\", callback_trajectory)\n",
    "B0_select.on_change(\"value\", callback_trajectory)\n",
    "\n",
    "# .... building dashboard ....\n",
    "lay_widgets = bokeh.layouts.Row(bokeh.layouts.Column(β_A_slider, β_B_slider), \n",
    "                     bokeh.layouts.Column(γ_slider, N_slider), \n",
    "                                align=\"center\")\n",
    "lay_plots = bokeh.layouts.layout([[style(s), style(t), style(u),]])\n",
    "dashboard = bokeh.layouts.Column(lay_plots, lay_widgets)\n",
    "\n",
    "# .... serving dashboard ....\n",
    "def app(doc):\n",
    "    doc.add_root(dashboard)\n",
    "bokeh.io.show(app, notebook_url='localhost:8888')"
   ]
  },
  {
   "cell_type": "markdown",
   "metadata": {},
   "source": [
    "slide β_A around to see the toggle in action!"
   ]
  },
  {
   "cell_type": "markdown",
   "metadata": {},
   "source": [
    "<img src=\"150.2.1b.jpg\" width=\"1000px\">"
   ]
  }
 ],
 "metadata": {
  "kernelspec": {
   "display_name": "Python 3",
   "language": "python",
   "name": "python3"
  },
  "language_info": {
   "codemirror_mode": {
    "name": "ipython",
    "version": 3
   },
   "file_extension": ".py",
   "mimetype": "text/x-python",
   "name": "python",
   "nbconvert_exporter": "python",
   "pygments_lexer": "ipython3",
   "version": "3.8.5"
  }
 },
 "nbformat": 4,
 "nbformat_minor": 4
}
